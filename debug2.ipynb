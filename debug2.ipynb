{
 "cells": [
  {
   "cell_type": "code",
   "execution_count": 100,
   "metadata": {
    "tags": []
   },
   "outputs": [],
   "source": [
    "import openna"
   ]
  },
  {
   "cell_type": "code",
   "execution_count": 101,
   "metadata": {},
   "outputs": [],
   "source": [
    "test = openna.RNA()"
   ]
  },
  {
   "cell_type": "code",
   "execution_count": 102,
   "metadata": {},
   "outputs": [],
   "source": [
    "test.parseConfigurationFile(configuration_file=f'./openna.conf')"
   ]
  },
  {
   "cell_type": "code",
   "execution_count": 103,
   "metadata": {
    "scrolled": true
   },
   "outputs": [],
   "source": [
    "test = test.fromPDB('fiber-ssRNA.pdb')"
   ]
  },
  {
   "cell_type": "code",
   "execution_count": 104,
   "metadata": {},
   "outputs": [
    {
     "output_type": "execute_result",
     "data": {
      "text/plain": "<bound method RNA.computeTopology of openNA RNA object (32 atoms)>"
     },
     "metadata": {},
     "execution_count": 104
    }
   ],
   "source": [
    "test.computeTopology"
   ]
  },
  {
   "cell_type": "code",
   "execution_count": 105,
   "metadata": {},
   "outputs": [
    {
     "output_type": "execute_result",
     "data": {
      "text/plain": "    name  aai  aaj nucleic  i  j  s1        r0       Kb2  Kb3  Kb4\n0      0    3    4     RNA  P  S   0  4.628545  0.143403    0    0\n1      0    6    7     RNA  P  S   0  4.628039  0.143403    0    0\n2      0    9   10     RNA  P  S   0  4.628012  0.143403    0    0\n3      0   12   13     RNA  P  S   0  4.628001  0.143403    0    0\n4      0   15   16     RNA  P  S   0  4.628039  0.143403    0    0\n5      0   18   19     RNA  P  S   0  4.628153  0.143403    0    0\n6      0   21   22     RNA  P  S   0  4.628093  0.143403    0    0\n7      0   24   25     RNA  P  S   0  4.627876  0.143403    0    0\n8      0   27   28     RNA  P  S   0  4.627970  0.143403    0    0\n9      0   30   31     RNA  P  S   0  4.627845  0.143403    0    0\n10     1    1    3     RNA  S  P   1  3.752023  0.143403    0    0\n11     1    4    6     RNA  S  P   1  3.752005  0.143403    0    0\n12     1    7    9     RNA  S  P   1  3.752053  0.143403    0    0\n13     1   10   12     RNA  S  P   1  3.752013  0.143403    0    0\n14     1   13   15     RNA  S  P   1  3.752144  0.143403    0    0\n15     1   16   18     RNA  S  P   1  3.752049  0.143403    0    0\n16     1   19   21     RNA  S  P   1  3.752069  0.143403    0    0\n17     1   22   24     RNA  S  P   1  3.752064  0.143403    0    0\n18     1   25   27     RNA  S  P   1  3.751835  0.143403    0    0\n19     1   28   30     RNA  S  P   1  3.751931  0.143403    0    0\n20     2    1    0     RNA  S  A   0  4.669678  0.143403    0    0\n21     2    4    2     RNA  S  A   0  4.669718  0.143403    0    0\n22     2    7    5     RNA  S  A   0  4.669734  0.143403    0    0\n23     3   16   14     RNA  S  U   0  4.136071  0.143403    0    0\n24     3   19   17     RNA  S  U   0  4.135912  0.143403    0    0\n25     3   22   20     RNA  S  U   0  4.136262  0.143403    0    0\n26     4   10    8     RNA  S  G   0  4.795272  0.143403    0    0\n27     4   13   11     RNA  S  G   0  4.795374  0.143403    0    0\n28     5   25   23     RNA  S  C   0  4.090865  0.143403    0    0\n29     5   28   26     RNA  S  C   0  4.091108  0.143403    0    0\n30     5   31   29     RNA  S  C   0  4.091120  0.143403    0    0",
      "text/html": "<div>\n<style scoped>\n    .dataframe tbody tr th:only-of-type {\n        vertical-align: middle;\n    }\n\n    .dataframe tbody tr th {\n        vertical-align: top;\n    }\n\n    .dataframe thead th {\n        text-align: right;\n    }\n</style>\n<table border=\"1\" class=\"dataframe\">\n  <thead>\n    <tr style=\"text-align: right;\">\n      <th></th>\n      <th>name</th>\n      <th>aai</th>\n      <th>aaj</th>\n      <th>nucleic</th>\n      <th>i</th>\n      <th>j</th>\n      <th>s1</th>\n      <th>r0</th>\n      <th>Kb2</th>\n      <th>Kb3</th>\n      <th>Kb4</th>\n    </tr>\n  </thead>\n  <tbody>\n    <tr>\n      <th>0</th>\n      <td>0</td>\n      <td>3</td>\n      <td>4</td>\n      <td>RNA</td>\n      <td>P</td>\n      <td>S</td>\n      <td>0</td>\n      <td>4.628545</td>\n      <td>0.143403</td>\n      <td>0</td>\n      <td>0</td>\n    </tr>\n    <tr>\n      <th>1</th>\n      <td>0</td>\n      <td>6</td>\n      <td>7</td>\n      <td>RNA</td>\n      <td>P</td>\n      <td>S</td>\n      <td>0</td>\n      <td>4.628039</td>\n      <td>0.143403</td>\n      <td>0</td>\n      <td>0</td>\n    </tr>\n    <tr>\n      <th>2</th>\n      <td>0</td>\n      <td>9</td>\n      <td>10</td>\n      <td>RNA</td>\n      <td>P</td>\n      <td>S</td>\n      <td>0</td>\n      <td>4.628012</td>\n      <td>0.143403</td>\n      <td>0</td>\n      <td>0</td>\n    </tr>\n    <tr>\n      <th>3</th>\n      <td>0</td>\n      <td>12</td>\n      <td>13</td>\n      <td>RNA</td>\n      <td>P</td>\n      <td>S</td>\n      <td>0</td>\n      <td>4.628001</td>\n      <td>0.143403</td>\n      <td>0</td>\n      <td>0</td>\n    </tr>\n    <tr>\n      <th>4</th>\n      <td>0</td>\n      <td>15</td>\n      <td>16</td>\n      <td>RNA</td>\n      <td>P</td>\n      <td>S</td>\n      <td>0</td>\n      <td>4.628039</td>\n      <td>0.143403</td>\n      <td>0</td>\n      <td>0</td>\n    </tr>\n    <tr>\n      <th>5</th>\n      <td>0</td>\n      <td>18</td>\n      <td>19</td>\n      <td>RNA</td>\n      <td>P</td>\n      <td>S</td>\n      <td>0</td>\n      <td>4.628153</td>\n      <td>0.143403</td>\n      <td>0</td>\n      <td>0</td>\n    </tr>\n    <tr>\n      <th>6</th>\n      <td>0</td>\n      <td>21</td>\n      <td>22</td>\n      <td>RNA</td>\n      <td>P</td>\n      <td>S</td>\n      <td>0</td>\n      <td>4.628093</td>\n      <td>0.143403</td>\n      <td>0</td>\n      <td>0</td>\n    </tr>\n    <tr>\n      <th>7</th>\n      <td>0</td>\n      <td>24</td>\n      <td>25</td>\n      <td>RNA</td>\n      <td>P</td>\n      <td>S</td>\n      <td>0</td>\n      <td>4.627876</td>\n      <td>0.143403</td>\n      <td>0</td>\n      <td>0</td>\n    </tr>\n    <tr>\n      <th>8</th>\n      <td>0</td>\n      <td>27</td>\n      <td>28</td>\n      <td>RNA</td>\n      <td>P</td>\n      <td>S</td>\n      <td>0</td>\n      <td>4.627970</td>\n      <td>0.143403</td>\n      <td>0</td>\n      <td>0</td>\n    </tr>\n    <tr>\n      <th>9</th>\n      <td>0</td>\n      <td>30</td>\n      <td>31</td>\n      <td>RNA</td>\n      <td>P</td>\n      <td>S</td>\n      <td>0</td>\n      <td>4.627845</td>\n      <td>0.143403</td>\n      <td>0</td>\n      <td>0</td>\n    </tr>\n    <tr>\n      <th>10</th>\n      <td>1</td>\n      <td>1</td>\n      <td>3</td>\n      <td>RNA</td>\n      <td>S</td>\n      <td>P</td>\n      <td>1</td>\n      <td>3.752023</td>\n      <td>0.143403</td>\n      <td>0</td>\n      <td>0</td>\n    </tr>\n    <tr>\n      <th>11</th>\n      <td>1</td>\n      <td>4</td>\n      <td>6</td>\n      <td>RNA</td>\n      <td>S</td>\n      <td>P</td>\n      <td>1</td>\n      <td>3.752005</td>\n      <td>0.143403</td>\n      <td>0</td>\n      <td>0</td>\n    </tr>\n    <tr>\n      <th>12</th>\n      <td>1</td>\n      <td>7</td>\n      <td>9</td>\n      <td>RNA</td>\n      <td>S</td>\n      <td>P</td>\n      <td>1</td>\n      <td>3.752053</td>\n      <td>0.143403</td>\n      <td>0</td>\n      <td>0</td>\n    </tr>\n    <tr>\n      <th>13</th>\n      <td>1</td>\n      <td>10</td>\n      <td>12</td>\n      <td>RNA</td>\n      <td>S</td>\n      <td>P</td>\n      <td>1</td>\n      <td>3.752013</td>\n      <td>0.143403</td>\n      <td>0</td>\n      <td>0</td>\n    </tr>\n    <tr>\n      <th>14</th>\n      <td>1</td>\n      <td>13</td>\n      <td>15</td>\n      <td>RNA</td>\n      <td>S</td>\n      <td>P</td>\n      <td>1</td>\n      <td>3.752144</td>\n      <td>0.143403</td>\n      <td>0</td>\n      <td>0</td>\n    </tr>\n    <tr>\n      <th>15</th>\n      <td>1</td>\n      <td>16</td>\n      <td>18</td>\n      <td>RNA</td>\n      <td>S</td>\n      <td>P</td>\n      <td>1</td>\n      <td>3.752049</td>\n      <td>0.143403</td>\n      <td>0</td>\n      <td>0</td>\n    </tr>\n    <tr>\n      <th>16</th>\n      <td>1</td>\n      <td>19</td>\n      <td>21</td>\n      <td>RNA</td>\n      <td>S</td>\n      <td>P</td>\n      <td>1</td>\n      <td>3.752069</td>\n      <td>0.143403</td>\n      <td>0</td>\n      <td>0</td>\n    </tr>\n    <tr>\n      <th>17</th>\n      <td>1</td>\n      <td>22</td>\n      <td>24</td>\n      <td>RNA</td>\n      <td>S</td>\n      <td>P</td>\n      <td>1</td>\n      <td>3.752064</td>\n      <td>0.143403</td>\n      <td>0</td>\n      <td>0</td>\n    </tr>\n    <tr>\n      <th>18</th>\n      <td>1</td>\n      <td>25</td>\n      <td>27</td>\n      <td>RNA</td>\n      <td>S</td>\n      <td>P</td>\n      <td>1</td>\n      <td>3.751835</td>\n      <td>0.143403</td>\n      <td>0</td>\n      <td>0</td>\n    </tr>\n    <tr>\n      <th>19</th>\n      <td>1</td>\n      <td>28</td>\n      <td>30</td>\n      <td>RNA</td>\n      <td>S</td>\n      <td>P</td>\n      <td>1</td>\n      <td>3.751931</td>\n      <td>0.143403</td>\n      <td>0</td>\n      <td>0</td>\n    </tr>\n    <tr>\n      <th>20</th>\n      <td>2</td>\n      <td>1</td>\n      <td>0</td>\n      <td>RNA</td>\n      <td>S</td>\n      <td>A</td>\n      <td>0</td>\n      <td>4.669678</td>\n      <td>0.143403</td>\n      <td>0</td>\n      <td>0</td>\n    </tr>\n    <tr>\n      <th>21</th>\n      <td>2</td>\n      <td>4</td>\n      <td>2</td>\n      <td>RNA</td>\n      <td>S</td>\n      <td>A</td>\n      <td>0</td>\n      <td>4.669718</td>\n      <td>0.143403</td>\n      <td>0</td>\n      <td>0</td>\n    </tr>\n    <tr>\n      <th>22</th>\n      <td>2</td>\n      <td>7</td>\n      <td>5</td>\n      <td>RNA</td>\n      <td>S</td>\n      <td>A</td>\n      <td>0</td>\n      <td>4.669734</td>\n      <td>0.143403</td>\n      <td>0</td>\n      <td>0</td>\n    </tr>\n    <tr>\n      <th>23</th>\n      <td>3</td>\n      <td>16</td>\n      <td>14</td>\n      <td>RNA</td>\n      <td>S</td>\n      <td>U</td>\n      <td>0</td>\n      <td>4.136071</td>\n      <td>0.143403</td>\n      <td>0</td>\n      <td>0</td>\n    </tr>\n    <tr>\n      <th>24</th>\n      <td>3</td>\n      <td>19</td>\n      <td>17</td>\n      <td>RNA</td>\n      <td>S</td>\n      <td>U</td>\n      <td>0</td>\n      <td>4.135912</td>\n      <td>0.143403</td>\n      <td>0</td>\n      <td>0</td>\n    </tr>\n    <tr>\n      <th>25</th>\n      <td>3</td>\n      <td>22</td>\n      <td>20</td>\n      <td>RNA</td>\n      <td>S</td>\n      <td>U</td>\n      <td>0</td>\n      <td>4.136262</td>\n      <td>0.143403</td>\n      <td>0</td>\n      <td>0</td>\n    </tr>\n    <tr>\n      <th>26</th>\n      <td>4</td>\n      <td>10</td>\n      <td>8</td>\n      <td>RNA</td>\n      <td>S</td>\n      <td>G</td>\n      <td>0</td>\n      <td>4.795272</td>\n      <td>0.143403</td>\n      <td>0</td>\n      <td>0</td>\n    </tr>\n    <tr>\n      <th>27</th>\n      <td>4</td>\n      <td>13</td>\n      <td>11</td>\n      <td>RNA</td>\n      <td>S</td>\n      <td>G</td>\n      <td>0</td>\n      <td>4.795374</td>\n      <td>0.143403</td>\n      <td>0</td>\n      <td>0</td>\n    </tr>\n    <tr>\n      <th>28</th>\n      <td>5</td>\n      <td>25</td>\n      <td>23</td>\n      <td>RNA</td>\n      <td>S</td>\n      <td>C</td>\n      <td>0</td>\n      <td>4.090865</td>\n      <td>0.143403</td>\n      <td>0</td>\n      <td>0</td>\n    </tr>\n    <tr>\n      <th>29</th>\n      <td>5</td>\n      <td>28</td>\n      <td>26</td>\n      <td>RNA</td>\n      <td>S</td>\n      <td>C</td>\n      <td>0</td>\n      <td>4.091108</td>\n      <td>0.143403</td>\n      <td>0</td>\n      <td>0</td>\n    </tr>\n    <tr>\n      <th>30</th>\n      <td>5</td>\n      <td>31</td>\n      <td>29</td>\n      <td>RNA</td>\n      <td>S</td>\n      <td>C</td>\n      <td>0</td>\n      <td>4.091120</td>\n      <td>0.143403</td>\n      <td>0</td>\n      <td>0</td>\n    </tr>\n  </tbody>\n</table>\n</div>"
     },
     "metadata": {},
     "execution_count": 105
    }
   ],
   "source": [
    "test.bonds"
   ]
  },
  {
   "cell_type": "code",
   "execution_count": 106,
   "metadata": {},
   "outputs": [
    {
     "output_type": "execute_result",
     "data": {
      "text/plain": "   nucleic name   epsilon  radius      mass  charge\n0      RNA    P  0.239006     4.5   94.9696    -0.6\n1      RNA    S  0.239006     6.2   99.1094     0.0\n2      RNA    A  0.239006     5.4  134.1220     0.0\n3      RNA    U  0.239006     7.1  109.0620     0.0\n4      RNA    G  0.239006     4.9  150.1214     0.0\n5      RNA    C  0.239006     6.4  110.0964     0.0\n6      DNA    P  0.239006     4.5   94.9696    -0.6\n7      DNA    S  0.239006     6.2   83.1104     0.0\n8      DNA    A  0.239006     5.4  134.1220     0.0\n9      DNA    T  0.239006     7.1  125.1078     0.0\n10     DNA    G  0.239006     4.9  150.1214     0.0\n11     DNA    C  0.239006     6.4  110.0964     0.0",
      "text/html": "<div>\n<style scoped>\n    .dataframe tbody tr th:only-of-type {\n        vertical-align: middle;\n    }\n\n    .dataframe tbody tr th {\n        vertical-align: top;\n    }\n\n    .dataframe thead th {\n        text-align: right;\n    }\n</style>\n<table border=\"1\" class=\"dataframe\">\n  <thead>\n    <tr style=\"text-align: right;\">\n      <th></th>\n      <th>nucleic</th>\n      <th>name</th>\n      <th>epsilon</th>\n      <th>radius</th>\n      <th>mass</th>\n      <th>charge</th>\n    </tr>\n  </thead>\n  <tbody>\n    <tr>\n      <th>0</th>\n      <td>RNA</td>\n      <td>P</td>\n      <td>0.239006</td>\n      <td>4.5</td>\n      <td>94.9696</td>\n      <td>-0.6</td>\n    </tr>\n    <tr>\n      <th>1</th>\n      <td>RNA</td>\n      <td>S</td>\n      <td>0.239006</td>\n      <td>6.2</td>\n      <td>99.1094</td>\n      <td>0.0</td>\n    </tr>\n    <tr>\n      <th>2</th>\n      <td>RNA</td>\n      <td>A</td>\n      <td>0.239006</td>\n      <td>5.4</td>\n      <td>134.1220</td>\n      <td>0.0</td>\n    </tr>\n    <tr>\n      <th>3</th>\n      <td>RNA</td>\n      <td>U</td>\n      <td>0.239006</td>\n      <td>7.1</td>\n      <td>109.0620</td>\n      <td>0.0</td>\n    </tr>\n    <tr>\n      <th>4</th>\n      <td>RNA</td>\n      <td>G</td>\n      <td>0.239006</td>\n      <td>4.9</td>\n      <td>150.1214</td>\n      <td>0.0</td>\n    </tr>\n    <tr>\n      <th>5</th>\n      <td>RNA</td>\n      <td>C</td>\n      <td>0.239006</td>\n      <td>6.4</td>\n      <td>110.0964</td>\n      <td>0.0</td>\n    </tr>\n    <tr>\n      <th>6</th>\n      <td>DNA</td>\n      <td>P</td>\n      <td>0.239006</td>\n      <td>4.5</td>\n      <td>94.9696</td>\n      <td>-0.6</td>\n    </tr>\n    <tr>\n      <th>7</th>\n      <td>DNA</td>\n      <td>S</td>\n      <td>0.239006</td>\n      <td>6.2</td>\n      <td>83.1104</td>\n      <td>0.0</td>\n    </tr>\n    <tr>\n      <th>8</th>\n      <td>DNA</td>\n      <td>A</td>\n      <td>0.239006</td>\n      <td>5.4</td>\n      <td>134.1220</td>\n      <td>0.0</td>\n    </tr>\n    <tr>\n      <th>9</th>\n      <td>DNA</td>\n      <td>T</td>\n      <td>0.239006</td>\n      <td>7.1</td>\n      <td>125.1078</td>\n      <td>0.0</td>\n    </tr>\n    <tr>\n      <th>10</th>\n      <td>DNA</td>\n      <td>G</td>\n      <td>0.239006</td>\n      <td>4.9</td>\n      <td>150.1214</td>\n      <td>0.0</td>\n    </tr>\n    <tr>\n      <th>11</th>\n      <td>DNA</td>\n      <td>C</td>\n      <td>0.239006</td>\n      <td>6.4</td>\n      <td>110.0964</td>\n      <td>0.0</td>\n    </tr>\n  </tbody>\n</table>\n</div>"
     },
     "metadata": {},
     "execution_count": 106
    }
   ],
   "source": [
    "test.particle_definition"
   ]
  },
  {
   "cell_type": "code",
   "execution_count": 107,
   "metadata": {},
   "outputs": [],
   "source": [
    "test2 = openna.RNA.fromPDB('fiber-ssRNA.pdb')"
   ]
  },
  {
   "cell_type": "code",
   "execution_count": 108,
   "metadata": {},
   "outputs": [
    {
     "output_type": "execute_result",
     "data": {
      "text/plain": "<bound method RNA.computeTopology of openNA RNA object (32 atoms)>"
     },
     "metadata": {},
     "execution_count": 108
    }
   ],
   "source": [
    "test2.computeTopology"
   ]
  },
  {
   "cell_type": "code",
   "execution_count": 109,
   "metadata": {},
   "outputs": [
    {
     "output_type": "execute_result",
     "data": {
      "text/plain": "    name  aai  aaj nucleic  i  j  s1        r0       Kb2  Kb3  Kb4\n0      0    3    4     RNA  P  S   0  4.628545  0.143403    0    0\n1      0    6    7     RNA  P  S   0  4.628039  0.143403    0    0\n2      0    9   10     RNA  P  S   0  4.628012  0.143403    0    0\n3      0   12   13     RNA  P  S   0  4.628001  0.143403    0    0\n4      0   15   16     RNA  P  S   0  4.628039  0.143403    0    0\n5      0   18   19     RNA  P  S   0  4.628153  0.143403    0    0\n6      0   21   22     RNA  P  S   0  4.628093  0.143403    0    0\n7      0   24   25     RNA  P  S   0  4.627876  0.143403    0    0\n8      0   27   28     RNA  P  S   0  4.627970  0.143403    0    0\n9      0   30   31     RNA  P  S   0  4.627845  0.143403    0    0\n10     1    1    3     RNA  S  P   1  3.752023  0.143403    0    0\n11     1    4    6     RNA  S  P   1  3.752005  0.143403    0    0\n12     1    7    9     RNA  S  P   1  3.752053  0.143403    0    0\n13     1   10   12     RNA  S  P   1  3.752013  0.143403    0    0\n14     1   13   15     RNA  S  P   1  3.752144  0.143403    0    0\n15     1   16   18     RNA  S  P   1  3.752049  0.143403    0    0\n16     1   19   21     RNA  S  P   1  3.752069  0.143403    0    0\n17     1   22   24     RNA  S  P   1  3.752064  0.143403    0    0\n18     1   25   27     RNA  S  P   1  3.751835  0.143403    0    0\n19     1   28   30     RNA  S  P   1  3.751931  0.143403    0    0\n20     2    1    0     RNA  S  A   0  4.669678  0.143403    0    0\n21     2    4    2     RNA  S  A   0  4.669718  0.143403    0    0\n22     2    7    5     RNA  S  A   0  4.669734  0.143403    0    0\n23     3   16   14     RNA  S  U   0  4.136071  0.143403    0    0\n24     3   19   17     RNA  S  U   0  4.135912  0.143403    0    0\n25     3   22   20     RNA  S  U   0  4.136262  0.143403    0    0\n26     4   10    8     RNA  S  G   0  4.795272  0.143403    0    0\n27     4   13   11     RNA  S  G   0  4.795374  0.143403    0    0\n28     5   25   23     RNA  S  C   0  4.090865  0.143403    0    0\n29     5   28   26     RNA  S  C   0  4.091108  0.143403    0    0\n30     5   31   29     RNA  S  C   0  4.091120  0.143403    0    0",
      "text/html": "<div>\n<style scoped>\n    .dataframe tbody tr th:only-of-type {\n        vertical-align: middle;\n    }\n\n    .dataframe tbody tr th {\n        vertical-align: top;\n    }\n\n    .dataframe thead th {\n        text-align: right;\n    }\n</style>\n<table border=\"1\" class=\"dataframe\">\n  <thead>\n    <tr style=\"text-align: right;\">\n      <th></th>\n      <th>name</th>\n      <th>aai</th>\n      <th>aaj</th>\n      <th>nucleic</th>\n      <th>i</th>\n      <th>j</th>\n      <th>s1</th>\n      <th>r0</th>\n      <th>Kb2</th>\n      <th>Kb3</th>\n      <th>Kb4</th>\n    </tr>\n  </thead>\n  <tbody>\n    <tr>\n      <th>0</th>\n      <td>0</td>\n      <td>3</td>\n      <td>4</td>\n      <td>RNA</td>\n      <td>P</td>\n      <td>S</td>\n      <td>0</td>\n      <td>4.628545</td>\n      <td>0.143403</td>\n      <td>0</td>\n      <td>0</td>\n    </tr>\n    <tr>\n      <th>1</th>\n      <td>0</td>\n      <td>6</td>\n      <td>7</td>\n      <td>RNA</td>\n      <td>P</td>\n      <td>S</td>\n      <td>0</td>\n      <td>4.628039</td>\n      <td>0.143403</td>\n      <td>0</td>\n      <td>0</td>\n    </tr>\n    <tr>\n      <th>2</th>\n      <td>0</td>\n      <td>9</td>\n      <td>10</td>\n      <td>RNA</td>\n      <td>P</td>\n      <td>S</td>\n      <td>0</td>\n      <td>4.628012</td>\n      <td>0.143403</td>\n      <td>0</td>\n      <td>0</td>\n    </tr>\n    <tr>\n      <th>3</th>\n      <td>0</td>\n      <td>12</td>\n      <td>13</td>\n      <td>RNA</td>\n      <td>P</td>\n      <td>S</td>\n      <td>0</td>\n      <td>4.628001</td>\n      <td>0.143403</td>\n      <td>0</td>\n      <td>0</td>\n    </tr>\n    <tr>\n      <th>4</th>\n      <td>0</td>\n      <td>15</td>\n      <td>16</td>\n      <td>RNA</td>\n      <td>P</td>\n      <td>S</td>\n      <td>0</td>\n      <td>4.628039</td>\n      <td>0.143403</td>\n      <td>0</td>\n      <td>0</td>\n    </tr>\n    <tr>\n      <th>5</th>\n      <td>0</td>\n      <td>18</td>\n      <td>19</td>\n      <td>RNA</td>\n      <td>P</td>\n      <td>S</td>\n      <td>0</td>\n      <td>4.628153</td>\n      <td>0.143403</td>\n      <td>0</td>\n      <td>0</td>\n    </tr>\n    <tr>\n      <th>6</th>\n      <td>0</td>\n      <td>21</td>\n      <td>22</td>\n      <td>RNA</td>\n      <td>P</td>\n      <td>S</td>\n      <td>0</td>\n      <td>4.628093</td>\n      <td>0.143403</td>\n      <td>0</td>\n      <td>0</td>\n    </tr>\n    <tr>\n      <th>7</th>\n      <td>0</td>\n      <td>24</td>\n      <td>25</td>\n      <td>RNA</td>\n      <td>P</td>\n      <td>S</td>\n      <td>0</td>\n      <td>4.627876</td>\n      <td>0.143403</td>\n      <td>0</td>\n      <td>0</td>\n    </tr>\n    <tr>\n      <th>8</th>\n      <td>0</td>\n      <td>27</td>\n      <td>28</td>\n      <td>RNA</td>\n      <td>P</td>\n      <td>S</td>\n      <td>0</td>\n      <td>4.627970</td>\n      <td>0.143403</td>\n      <td>0</td>\n      <td>0</td>\n    </tr>\n    <tr>\n      <th>9</th>\n      <td>0</td>\n      <td>30</td>\n      <td>31</td>\n      <td>RNA</td>\n      <td>P</td>\n      <td>S</td>\n      <td>0</td>\n      <td>4.627845</td>\n      <td>0.143403</td>\n      <td>0</td>\n      <td>0</td>\n    </tr>\n    <tr>\n      <th>10</th>\n      <td>1</td>\n      <td>1</td>\n      <td>3</td>\n      <td>RNA</td>\n      <td>S</td>\n      <td>P</td>\n      <td>1</td>\n      <td>3.752023</td>\n      <td>0.143403</td>\n      <td>0</td>\n      <td>0</td>\n    </tr>\n    <tr>\n      <th>11</th>\n      <td>1</td>\n      <td>4</td>\n      <td>6</td>\n      <td>RNA</td>\n      <td>S</td>\n      <td>P</td>\n      <td>1</td>\n      <td>3.752005</td>\n      <td>0.143403</td>\n      <td>0</td>\n      <td>0</td>\n    </tr>\n    <tr>\n      <th>12</th>\n      <td>1</td>\n      <td>7</td>\n      <td>9</td>\n      <td>RNA</td>\n      <td>S</td>\n      <td>P</td>\n      <td>1</td>\n      <td>3.752053</td>\n      <td>0.143403</td>\n      <td>0</td>\n      <td>0</td>\n    </tr>\n    <tr>\n      <th>13</th>\n      <td>1</td>\n      <td>10</td>\n      <td>12</td>\n      <td>RNA</td>\n      <td>S</td>\n      <td>P</td>\n      <td>1</td>\n      <td>3.752013</td>\n      <td>0.143403</td>\n      <td>0</td>\n      <td>0</td>\n    </tr>\n    <tr>\n      <th>14</th>\n      <td>1</td>\n      <td>13</td>\n      <td>15</td>\n      <td>RNA</td>\n      <td>S</td>\n      <td>P</td>\n      <td>1</td>\n      <td>3.752144</td>\n      <td>0.143403</td>\n      <td>0</td>\n      <td>0</td>\n    </tr>\n    <tr>\n      <th>15</th>\n      <td>1</td>\n      <td>16</td>\n      <td>18</td>\n      <td>RNA</td>\n      <td>S</td>\n      <td>P</td>\n      <td>1</td>\n      <td>3.752049</td>\n      <td>0.143403</td>\n      <td>0</td>\n      <td>0</td>\n    </tr>\n    <tr>\n      <th>16</th>\n      <td>1</td>\n      <td>19</td>\n      <td>21</td>\n      <td>RNA</td>\n      <td>S</td>\n      <td>P</td>\n      <td>1</td>\n      <td>3.752069</td>\n      <td>0.143403</td>\n      <td>0</td>\n      <td>0</td>\n    </tr>\n    <tr>\n      <th>17</th>\n      <td>1</td>\n      <td>22</td>\n      <td>24</td>\n      <td>RNA</td>\n      <td>S</td>\n      <td>P</td>\n      <td>1</td>\n      <td>3.752064</td>\n      <td>0.143403</td>\n      <td>0</td>\n      <td>0</td>\n    </tr>\n    <tr>\n      <th>18</th>\n      <td>1</td>\n      <td>25</td>\n      <td>27</td>\n      <td>RNA</td>\n      <td>S</td>\n      <td>P</td>\n      <td>1</td>\n      <td>3.751835</td>\n      <td>0.143403</td>\n      <td>0</td>\n      <td>0</td>\n    </tr>\n    <tr>\n      <th>19</th>\n      <td>1</td>\n      <td>28</td>\n      <td>30</td>\n      <td>RNA</td>\n      <td>S</td>\n      <td>P</td>\n      <td>1</td>\n      <td>3.751931</td>\n      <td>0.143403</td>\n      <td>0</td>\n      <td>0</td>\n    </tr>\n    <tr>\n      <th>20</th>\n      <td>2</td>\n      <td>1</td>\n      <td>0</td>\n      <td>RNA</td>\n      <td>S</td>\n      <td>A</td>\n      <td>0</td>\n      <td>4.669678</td>\n      <td>0.143403</td>\n      <td>0</td>\n      <td>0</td>\n    </tr>\n    <tr>\n      <th>21</th>\n      <td>2</td>\n      <td>4</td>\n      <td>2</td>\n      <td>RNA</td>\n      <td>S</td>\n      <td>A</td>\n      <td>0</td>\n      <td>4.669718</td>\n      <td>0.143403</td>\n      <td>0</td>\n      <td>0</td>\n    </tr>\n    <tr>\n      <th>22</th>\n      <td>2</td>\n      <td>7</td>\n      <td>5</td>\n      <td>RNA</td>\n      <td>S</td>\n      <td>A</td>\n      <td>0</td>\n      <td>4.669734</td>\n      <td>0.143403</td>\n      <td>0</td>\n      <td>0</td>\n    </tr>\n    <tr>\n      <th>23</th>\n      <td>3</td>\n      <td>16</td>\n      <td>14</td>\n      <td>RNA</td>\n      <td>S</td>\n      <td>U</td>\n      <td>0</td>\n      <td>4.136071</td>\n      <td>0.143403</td>\n      <td>0</td>\n      <td>0</td>\n    </tr>\n    <tr>\n      <th>24</th>\n      <td>3</td>\n      <td>19</td>\n      <td>17</td>\n      <td>RNA</td>\n      <td>S</td>\n      <td>U</td>\n      <td>0</td>\n      <td>4.135912</td>\n      <td>0.143403</td>\n      <td>0</td>\n      <td>0</td>\n    </tr>\n    <tr>\n      <th>25</th>\n      <td>3</td>\n      <td>22</td>\n      <td>20</td>\n      <td>RNA</td>\n      <td>S</td>\n      <td>U</td>\n      <td>0</td>\n      <td>4.136262</td>\n      <td>0.143403</td>\n      <td>0</td>\n      <td>0</td>\n    </tr>\n    <tr>\n      <th>26</th>\n      <td>4</td>\n      <td>10</td>\n      <td>8</td>\n      <td>RNA</td>\n      <td>S</td>\n      <td>G</td>\n      <td>0</td>\n      <td>4.795272</td>\n      <td>0.143403</td>\n      <td>0</td>\n      <td>0</td>\n    </tr>\n    <tr>\n      <th>27</th>\n      <td>4</td>\n      <td>13</td>\n      <td>11</td>\n      <td>RNA</td>\n      <td>S</td>\n      <td>G</td>\n      <td>0</td>\n      <td>4.795374</td>\n      <td>0.143403</td>\n      <td>0</td>\n      <td>0</td>\n    </tr>\n    <tr>\n      <th>28</th>\n      <td>5</td>\n      <td>25</td>\n      <td>23</td>\n      <td>RNA</td>\n      <td>S</td>\n      <td>C</td>\n      <td>0</td>\n      <td>4.090865</td>\n      <td>0.143403</td>\n      <td>0</td>\n      <td>0</td>\n    </tr>\n    <tr>\n      <th>29</th>\n      <td>5</td>\n      <td>28</td>\n      <td>26</td>\n      <td>RNA</td>\n      <td>S</td>\n      <td>C</td>\n      <td>0</td>\n      <td>4.091108</td>\n      <td>0.143403</td>\n      <td>0</td>\n      <td>0</td>\n    </tr>\n    <tr>\n      <th>30</th>\n      <td>5</td>\n      <td>31</td>\n      <td>29</td>\n      <td>RNA</td>\n      <td>S</td>\n      <td>C</td>\n      <td>0</td>\n      <td>4.091120</td>\n      <td>0.143403</td>\n      <td>0</td>\n      <td>0</td>\n    </tr>\n  </tbody>\n</table>\n</div>"
     },
     "metadata": {},
     "execution_count": 109
    }
   ],
   "source": [
    "test2.bonds"
   ]
  },
  {
   "cell_type": "code",
   "execution_count": 110,
   "metadata": {
    "scrolled": true
   },
   "outputs": [],
   "source": [
    "import system\n",
    "test.periodic=False\n",
    "s=system.System(test, periodicBox=None)"
   ]
  },
  {
   "cell_type": "code",
   "execution_count": 127,
   "metadata": {},
   "outputs": [],
   "source": [
    "import simtk.openmm.app\n",
    "import simtk.openmm\n",
    "import simtk.unit as unit\n",
    "import configparser\n",
    "import numpy as np\n",
    "import itertools\n",
    "import scipy.spatial.distance as sdist\n",
    "import os\n",
    "import pdbfixer\n",
    "import pandas\n",
    "import subprocess\n",
    "import nose"
   ]
  },
  {
   "cell_type": "code",
   "execution_count": 128,
   "metadata": {},
   "outputs": [],
   "source": [
    "import simtk.openmm\n",
    "pdb=simtk.openmm.app.PDBFile('clean.pdb')\n",
    "top=pdb.topology\n",
    "coord=pdb.positions\n",
    "forcefield=simtk.openmm.app.ForceField(openna.xml)\n",
    "s=forcefield.createSystem(top)"
   ]
  },
  {
   "cell_type": "code",
   "execution_count": 129,
   "metadata": {
    "scrolled": true
   },
   "outputs": [
    {
     "output_type": "error",
     "ename": "AttributeError",
     "evalue": "",
     "traceback": [
      "\u001b[0;31m---------------------------------------------------------------------------\u001b[0m",
      "\u001b[0;31mAttributeError\u001b[0m                            Traceback (most recent call last)",
      "\u001b[0;32m<ipython-input-129-4797f26d7f0a>\u001b[0m in \u001b[0;36m<module>\u001b[0;34m()\u001b[0m\n\u001b[1;32m      4\u001b[0m \u001b[0;32mfor\u001b[0m \u001b[0meachone\u001b[0m \u001b[0;32min\u001b[0m \u001b[0mallforces\u001b[0m\u001b[0;34m:\u001b[0m\u001b[0;34m\u001b[0m\u001b[0;34m\u001b[0m\u001b[0m\n\u001b[1;32m      5\u001b[0m     \u001b[0mforce_now\u001b[0m \u001b[0;34m=\u001b[0m \u001b[0mallforces\u001b[0m\u001b[0;34m[\u001b[0m\u001b[0meachone\u001b[0m\u001b[0;34m]\u001b[0m\u001b[0;34m(\u001b[0m\u001b[0mtest\u001b[0m\u001b[0;34m)\u001b[0m\u001b[0;34m\u001b[0m\u001b[0;34m\u001b[0m\u001b[0m\n\u001b[0;32m----> 6\u001b[0;31m     \u001b[0ms\u001b[0m\u001b[0;34m.\u001b[0m\u001b[0maddForce\u001b[0m\u001b[0;34m(\u001b[0m\u001b[0mforce_now\u001b[0m\u001b[0;34m)\u001b[0m\u001b[0;34m\u001b[0m\u001b[0;34m\u001b[0m\u001b[0m\n\u001b[0m",
      "\u001b[0;32m/mnt/d/linux/anaconda3/envs/openmm/lib/python3.6/site-packages/simtk/openmm/openmm.py\u001b[0m in \u001b[0;36maddForce\u001b[0;34m(self, force)\u001b[0m\n\u001b[1;32m  16027\u001b[0m         \"\"\"\n\u001b[1;32m  16028\u001b[0m \u001b[0;34m\u001b[0m\u001b[0m\n\u001b[0;32m> 16029\u001b[0;31m         \u001b[0;32mif\u001b[0m \u001b[0;32mnot\u001b[0m \u001b[0mforce\u001b[0m\u001b[0;34m.\u001b[0m\u001b[0mthisown\u001b[0m\u001b[0;34m:\u001b[0m\u001b[0;34m\u001b[0m\u001b[0;34m\u001b[0m\u001b[0m\n\u001b[0m\u001b[1;32m  16030\u001b[0m             s = (\"the %s object does not own its corresponding OpenMM object\"\n\u001b[1;32m  16031\u001b[0m                  % self.__class__.__name__)\n",
      "\u001b[0;32m/mnt/f/linux/script/openna/force2.py\u001b[0m in \u001b[0;36m__getattr__\u001b[0;34m(self, attr)\u001b[0m\n\u001b[1;32m     34\u001b[0m                 \u001b[0;32mraise\u001b[0m \u001b[0mAttributeError\u001b[0m\u001b[0;34m(\u001b[0m\u001b[0;34mf\"type object {str(self)} has no attribute {str(attr)}\"\u001b[0m\u001b[0;34m)\u001b[0m\u001b[0;34m\u001b[0m\u001b[0;34m\u001b[0m\u001b[0m\n\u001b[1;32m     35\u001b[0m             \u001b[0;32melse\u001b[0m\u001b[0;34m:\u001b[0m\u001b[0;34m\u001b[0m\u001b[0;34m\u001b[0m\u001b[0m\n\u001b[0;32m---> 36\u001b[0;31m                 \u001b[0;32mraise\u001b[0m \u001b[0mAttributeError\u001b[0m\u001b[0;34m(\u001b[0m\u001b[0;34m)\u001b[0m\u001b[0;34m\u001b[0m\u001b[0;34m\u001b[0m\u001b[0m\n\u001b[0m\u001b[1;32m     37\u001b[0m \u001b[0;34m\u001b[0m\u001b[0m\n\u001b[1;32m     38\u001b[0m \u001b[0;34m\u001b[0m\u001b[0m\n",
      "\u001b[0;31mAttributeError\u001b[0m: "
     ]
    }
   ],
   "source": [
    "import force2\n",
    "allforces = dict(Backbone=force2.Backbone)\n",
    "\n",
    "for eachone in allforces:\n",
    "    force_now = allforces[eachone](test)\n",
    "    s.addForce(force_now)"
   ]
  },
  {
   "cell_type": "code",
   "execution_count": 133,
   "metadata": {},
   "outputs": [
    {
     "output_type": "execute_result",
     "data": {
      "text/plain": "mappingproxy({'__module__': 'force2',\n              '__init__': <function force2.Backbone.__init__>,\n              'getParameterNames': <function force2.Backbone.getParameterNames>,\n              'reset': <function force2.Backbone.reset>,\n              'defineInteraction': <function force2.Backbone.defineInteraction>,\n              '__doc__': None})"
     },
     "metadata": {},
     "execution_count": 133
    }
   ],
   "source": [
    "force.__dict__"
   ]
  },
  {
   "cell_type": "code",
   "execution_count": 114,
   "metadata": {
    "tags": []
   },
   "outputs": [
    {
     "output_type": "stream",
     "name": "stdout",
     "text": "0.0\n"
    }
   ],
   "source": [
    "import numpy as np\n",
    "temperature=300 * simtk.openmm.unit.kelvin\n",
    "#platform_name='CUDA'\n",
    "\n",
    "platform_name='Reference'\n",
    "\n",
    "integrator = simtk.openmm.LangevinIntegrator(temperature, 1 / simtk.openmm.unit.picosecond, 2 * simtk.openmm.unit.femtoseconds)\n",
    "platform = simtk.openmm.Platform.getPlatformByName(platform_name)\n",
    "simulation = simtk.openmm.app.Simulation(top, s, integrator, platform)\n",
    "simulation.context.setPositions(coord)\n",
    "energy_unit=simtk.openmm.unit.kilojoule_per_mole\n",
    "state = simulation.context.getState(getEnergy=True)\n",
    "energy = state.getPotentialEnergy().value_in_unit(energy_unit)\n",
    "print(energy)"
   ]
  },
  {
   "cell_type": "code",
   "execution_count": 115,
   "metadata": {
    "tags": []
   },
   "outputs": [
    {
     "output_type": "stream",
     "name": "stdout",
     "text": "TotalEnergy 0.0 kJ/mol\n"
    }
   ],
   "source": [
    "energy_unit=simtk.openmm.unit.kilojoule_per_mole\n",
    "state = simulation.context.getState(getEnergy=True)\n",
    "energy = state.getPotentialEnergy().value_in_unit(energy_unit)\n",
    "print('TotalEnergy',round(energy,6),energy_unit.get_symbol())"
   ]
  },
  {
   "cell_type": "code",
   "execution_count": 116,
   "metadata": {},
   "outputs": [
    {
     "output_type": "error",
     "ename": "TypeError",
     "evalue": "getForceGroup() missing 1 required positional argument: 'self'",
     "traceback": [
      "\u001b[0;31m---------------------------------------------------------------------------\u001b[0m",
      "\u001b[0;31mTypeError\u001b[0m                                 Traceback (most recent call last)",
      "\u001b[0;32m<ipython-input-116-a6e30c1a9ea5>\u001b[0m in \u001b[0;36m<module>\u001b[0;34m()\u001b[0m\n\u001b[1;32m      3\u001b[0m     \u001b[0;31m#print(force)\u001b[0m\u001b[0;34m\u001b[0m\u001b[0;34m\u001b[0m\u001b[0;34m\u001b[0m\u001b[0m\n\u001b[1;32m      4\u001b[0m     \u001b[0;31m#force.getForceGroup(force)\u001b[0m\u001b[0;34m\u001b[0m\u001b[0;34m\u001b[0m\u001b[0;34m\u001b[0m\u001b[0m\n\u001b[0;32m----> 5\u001b[0;31m     \u001b[0mgroup\u001b[0m\u001b[0;34m=\u001b[0m\u001b[0mforce\u001b[0m\u001b[0;34m.\u001b[0m\u001b[0mgetForceGroup\u001b[0m\u001b[0;34m(\u001b[0m\u001b[0;34m)\u001b[0m\u001b[0;34m\u001b[0m\u001b[0;34m\u001b[0m\u001b[0m\n\u001b[0m\u001b[1;32m      6\u001b[0m     \u001b[0mstate\u001b[0m \u001b[0;34m=\u001b[0m \u001b[0msimulation\u001b[0m\u001b[0;34m.\u001b[0m\u001b[0mcontext\u001b[0m\u001b[0;34m.\u001b[0m\u001b[0mgetState\u001b[0m\u001b[0;34m(\u001b[0m\u001b[0mgetEnergy\u001b[0m\u001b[0;34m=\u001b[0m\u001b[0;32mTrue\u001b[0m\u001b[0;34m,\u001b[0m \u001b[0mgroups\u001b[0m\u001b[0;34m=\u001b[0m\u001b[0;36m2\u001b[0m\u001b[0;34m**\u001b[0m\u001b[0mgroup\u001b[0m\u001b[0;34m)\u001b[0m\u001b[0;34m\u001b[0m\u001b[0;34m\u001b[0m\u001b[0m\n\u001b[1;32m      7\u001b[0m     \u001b[0menergies\u001b[0m\u001b[0;34m[\u001b[0m\u001b[0mforce_name\u001b[0m\u001b[0;34m]\u001b[0m \u001b[0;34m=\u001b[0m\u001b[0mstate\u001b[0m\u001b[0;34m.\u001b[0m\u001b[0mgetPotentialEnergy\u001b[0m\u001b[0;34m(\u001b[0m\u001b[0;34m)\u001b[0m\u001b[0;34m.\u001b[0m\u001b[0mvalue_in_unit\u001b[0m\u001b[0;34m(\u001b[0m\u001b[0menergy_unit\u001b[0m\u001b[0;34m)\u001b[0m\u001b[0;34m\u001b[0m\u001b[0;34m\u001b[0m\u001b[0m\n",
      "\u001b[0;31mTypeError\u001b[0m: getForceGroup() missing 1 required positional argument: 'self'"
     ]
    }
   ],
   "source": [
    "energies = {}\n",
    "for force_name, force in allforces.items():\n",
    "    #print(force)\n",
    "    #force.getForceGroup(force)\n",
    "    group=force.getForceGroup()\n",
    "    state = simulation.context.getState(getEnergy=True, groups=2**group)\n",
    "    energies[force_name] =state.getPotentialEnergy().value_in_unit(energy_unit)\n",
    "\n",
    "for force_name in allforces.keys():\n",
    "    print(force_name, round(energies[force_name],6),energy_unit.get_symbol())"
   ]
  },
  {
   "cell_type": "code",
   "execution_count": 117,
   "metadata": {},
   "outputs": [
    {
     "output_type": "error",
     "ename": "TypeError",
     "evalue": "in method 'Force_getForceGroup', argument 1 of type 'OpenMM::Force const *'",
     "traceback": [
      "\u001b[0;31m---------------------------------------------------------------------------\u001b[0m",
      "\u001b[0;31mTypeError\u001b[0m                                 Traceback (most recent call last)",
      "\u001b[0;32m<ipython-input-117-364c1fa37e87>\u001b[0m in \u001b[0;36m<module>\u001b[0;34m()\u001b[0m\n\u001b[0;32m----> 1\u001b[0;31m \u001b[0mforce\u001b[0m\u001b[0;34m.\u001b[0m\u001b[0mgetForceGroup\u001b[0m\u001b[0;34m(\u001b[0m\u001b[0mforce\u001b[0m\u001b[0;34m)\u001b[0m\u001b[0;34m\u001b[0m\u001b[0;34m\u001b[0m\u001b[0m\n\u001b[0m",
      "\u001b[0;32m/mnt/d/linux/anaconda3/envs/openmm/lib/python3.6/site-packages/simtk/openmm/openmm.py\u001b[0m in \u001b[0;36mgetForceGroup\u001b[0;34m(self)\u001b[0m\n\u001b[1;32m   1674\u001b[0m         \u001b[0mGet\u001b[0m \u001b[0mthe\u001b[0m \u001b[0mforce\u001b[0m \u001b[0mgroup\u001b[0m \u001b[0mthis\u001b[0m \u001b[0mForce\u001b[0m \u001b[0mbelongs\u001b[0m \u001b[0mto\u001b[0m\u001b[0;34m.\u001b[0m\u001b[0;34m\u001b[0m\u001b[0;34m\u001b[0m\u001b[0m\n\u001b[1;32m   1675\u001b[0m         \"\"\"\n\u001b[0;32m-> 1676\u001b[0;31m         \u001b[0;32mreturn\u001b[0m \u001b[0m_openmm\u001b[0m\u001b[0;34m.\u001b[0m\u001b[0mForce_getForceGroup\u001b[0m\u001b[0;34m(\u001b[0m\u001b[0mself\u001b[0m\u001b[0;34m)\u001b[0m\u001b[0;34m\u001b[0m\u001b[0;34m\u001b[0m\u001b[0m\n\u001b[0m\u001b[1;32m   1677\u001b[0m \u001b[0;34m\u001b[0m\u001b[0m\n\u001b[1;32m   1678\u001b[0m \u001b[0;34m\u001b[0m\u001b[0m\n",
      "\u001b[0;31mTypeError\u001b[0m: in method 'Force_getForceGroup', argument 1 of type 'OpenMM::Force const *'"
     ]
    }
   ],
   "source": [
    "force.getForceGroup(force)"
   ]
  },
  {
   "cell_type": "code",
   "execution_count": 118,
   "metadata": {},
   "outputs": [
    {
     "output_type": "execute_result",
     "data": {
      "text/plain": "force2.Backbone"
     },
     "metadata": {},
     "execution_count": 118
    }
   ],
   "source": [
    "force"
   ]
  },
  {
   "cell_type": "code",
   "execution_count": 119,
   "metadata": {},
   "outputs": [
    {
     "output_type": "execute_result",
     "data": {
      "text/plain": "['__class__',\n '__copy__',\n '__deepcopy__',\n '__del__',\n '__delattr__',\n '__dict__',\n '__dir__',\n '__doc__',\n '__eq__',\n '__format__',\n '__ge__',\n '__getattr__',\n '__getattribute__',\n '__getstate__',\n '__gt__',\n '__hash__',\n '__init__',\n '__init_subclass__',\n '__le__',\n '__lt__',\n '__module__',\n '__ne__',\n '__new__',\n '__reduce__',\n '__reduce_ex__',\n '__repr__',\n '__setattr__',\n '__setstate__',\n '__sizeof__',\n '__str__',\n '__subclasshook__',\n '__swig_destroy__',\n '__swig_getmethods__',\n '__swig_setmethods__',\n '__weakref__',\n '_s',\n 'addBond',\n 'addEnergyParameterDerivative',\n 'addGlobalParameter',\n 'addPerBondParameter',\n 'defineInteraction',\n 'getBondParameters',\n 'getEnergyFunction',\n 'getEnergyParameterDerivativeName',\n 'getForceGroup',\n 'getGlobalParameterDefaultValue',\n 'getGlobalParameterName',\n 'getNumBonds',\n 'getNumEnergyParameterDerivatives',\n 'getNumGlobalParameters',\n 'getNumPerBondParameters',\n 'getParameterNames',\n 'getPerBondParameterName',\n 'reset',\n 'setBondParameters',\n 'setEnergyFunction',\n 'setForceGroup',\n 'setGlobalParameterDefaultValue',\n 'setGlobalParameterName',\n 'setPerBondParameterName',\n 'setUsesPeriodicBoundaryConditions',\n 'updateParametersInContext',\n 'usesPeriodicBoundaryConditions']"
     },
     "metadata": {},
     "execution_count": 119
    }
   ],
   "source": [
    "dir(force)"
   ]
  },
  {
   "cell_type": "code",
   "execution_count": 120,
   "metadata": {},
   "outputs": [
    {
     "output_type": "execute_result",
     "data": {
      "text/plain": "<code object getForceGroup at 0x7fef1eefa810, file \"/mnt/d/linux/anaconda3/envs/openmm/lib/python3.6/site-packages/simtk/openmm/openmm.py\", line 1670>"
     },
     "metadata": {},
     "execution_count": 120
    }
   ],
   "source": [
    "force.getForceGroup.__code__"
   ]
  },
  {
   "cell_type": "code",
   "execution_count": 121,
   "metadata": {},
   "outputs": [
    {
     "output_type": "error",
     "ename": "AttributeError",
     "evalue": "type object 'Backbone' has no attribute 'Backbone'",
     "traceback": [
      "\u001b[0;31m---------------------------------------------------------------------------\u001b[0m",
      "\u001b[0;31mAttributeError\u001b[0m                            Traceback (most recent call last)",
      "\u001b[0;32m<ipython-input-121-180004e3bd74>\u001b[0m in \u001b[0;36m<module>\u001b[0;34m()\u001b[0m\n\u001b[0;32m----> 1\u001b[0;31m \u001b[0mforce\u001b[0m\u001b[0;34m=\u001b[0m\u001b[0mforce\u001b[0m\u001b[0;34m.\u001b[0m\u001b[0mBackbone\u001b[0m\u001b[0;34m(\u001b[0m\u001b[0mnucleic\u001b[0m\u001b[0;34m)\u001b[0m\u001b[0;34m\u001b[0m\u001b[0;34m\u001b[0m\u001b[0m\n\u001b[0m",
      "\u001b[0;31mAttributeError\u001b[0m: type object 'Backbone' has no attribute 'Backbone'"
     ]
    }
   ],
   "source": [
    "force=force.Backbone(nucleic)"
   ]
  },
  {
   "cell_type": "code",
   "execution_count": 122,
   "metadata": {},
   "outputs": [
    {
     "output_type": "error",
     "ename": "TypeError",
     "evalue": "setForceGroup() missing 1 required positional argument: 'group'",
     "traceback": [
      "\u001b[0;31m---------------------------------------------------------------------------\u001b[0m",
      "\u001b[0;31mTypeError\u001b[0m                                 Traceback (most recent call last)",
      "\u001b[0;32m<ipython-input-122-70c87ea86536>\u001b[0m in \u001b[0;36m<module>\u001b[0;34m()\u001b[0m\n\u001b[0;32m----> 1\u001b[0;31m \u001b[0mforce\u001b[0m\u001b[0;34m.\u001b[0m\u001b[0msetForceGroup\u001b[0m\u001b[0;34m(\u001b[0m\u001b[0;36m1\u001b[0m\u001b[0;34m)\u001b[0m\u001b[0;34m\u001b[0m\u001b[0;34m\u001b[0m\u001b[0m\n\u001b[0m",
      "\u001b[0;31mTypeError\u001b[0m: setForceGroup() missing 1 required positional argument: 'group'"
     ]
    }
   ],
   "source": [
    "force.setForceGroup(1)"
   ]
  },
  {
   "cell_type": "code",
   "execution_count": 123,
   "metadata": {},
   "outputs": [
    {
     "output_type": "error",
     "ename": "TypeError",
     "evalue": "reset() missing 1 required positional argument: 'self'",
     "traceback": [
      "\u001b[0;31m---------------------------------------------------------------------------\u001b[0m",
      "\u001b[0;31mTypeError\u001b[0m                                 Traceback (most recent call last)",
      "\u001b[0;32m<ipython-input-123-14388f436ca1>\u001b[0m in \u001b[0;36m<module>\u001b[0;34m()\u001b[0m\n\u001b[0;32m----> 1\u001b[0;31m \u001b[0mforce\u001b[0m\u001b[0;34m.\u001b[0m\u001b[0mreset\u001b[0m\u001b[0;34m(\u001b[0m\u001b[0;34m)\u001b[0m\u001b[0;34m\u001b[0m\u001b[0;34m\u001b[0m\u001b[0m\n\u001b[0m",
      "\u001b[0;31mTypeError\u001b[0m: reset() missing 1 required positional argument: 'self'"
     ]
    }
   ],
   "source": [
    "force.reset()"
   ]
  },
  {
   "cell_type": "code",
   "execution_count": 124,
   "metadata": {},
   "outputs": [],
   "source": [
    "import sys\n",
    "dcd_reporter=simtk.openmm.app.DCDReporter(f'output.dcd', 1000)\n",
    "energy_reporter=simtk.openmm.app.StateDataReporter(sys.stdout, 1000, step=True,time=True,\n",
    "                                                   potentialEnergy=True, temperature=True)\n",
    "simulation.reporters.append(dcd_reporter)\n",
    "simulation.reporters.append(energy_reporter)"
   ]
  },
  {
   "cell_type": "code",
   "execution_count": 125,
   "metadata": {
    "tags": []
   },
   "outputs": [
    {
     "output_type": "stream",
     "name": "stdout",
     "text": "#\"Step\",\"Time (ps)\",\"Potential Energy (kJ/mole)\",\"Temperature (K)\"\n1000,2.0000000000000013,0.0,340.56934005872245\n2000,3.999999999999781,0.0,204.20269363909188\n3000,5.999999999999561,0.0,260.32557664258997\n4000,7.999999999999341,0.0,264.09916755747884\n5000,10.000000000000009,0.0,249.23378017141874\n6000,12.000000000000677,0.0,277.3770152464928\n7000,14.000000000001345,0.0,359.99613465977654\n8000,16.00000000000201,0.0,367.3716157418159\n9000,18.000000000000902,0.0,289.4537356251006\n10000,19.999999999999794,0.0,300.88643215783407\n"
    }
   ],
   "source": [
    "#Run simulation\n",
    "simulation.minimizeEnergy()\n",
    "simulation.context.setVelocitiesToTemperature(temperature)\n",
    "simulation.step(10000)"
   ]
  },
  {
   "cell_type": "code",
   "execution_count": null,
   "metadata": {},
   "outputs": [],
   "source": []
  }
 ],
 "metadata": {
  "kernelspec": {
   "display_name": "Python 3",
   "language": "python",
   "name": "python3"
  },
  "language_info": {
   "codemirror_mode": {
    "name": "ipython",
    "version": 3
   },
   "file_extension": ".py",
   "mimetype": "text/x-python",
   "name": "python",
   "nbconvert_exporter": "python",
   "pygments_lexer": "ipython3",
   "version": "3.6.12-final"
  }
 },
 "nbformat": 4,
 "nbformat_minor": 4
}