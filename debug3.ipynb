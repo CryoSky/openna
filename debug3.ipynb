{
 "metadata": {
  "language_info": {
   "codemirror_mode": {
    "name": "ipython",
    "version": 3
   },
   "file_extension": ".py",
   "mimetype": "text/x-python",
   "name": "python",
   "nbconvert_exporter": "python",
   "pygments_lexer": "ipython3",
   "version": "3.6.12-final"
  },
  "orig_nbformat": 2,
  "kernelspec": {
   "name": "python_defaultSpec_1602869011315",
   "display_name": "Python 3.6.12 64-bit ('openmm': conda)",
   "metadata": {
    "interpreter": {
     "hash": "39de5e06d75b7e688983c9b6b88cbeb951b815a7a29a38db4f1a7a9d21b2c62b"
    }
   }
  }
 },
 "nbformat": 4,
 "nbformat_minor": 2,
 "cells": [
  {
   "cell_type": "code",
   "execution_count": 1,
   "metadata": {},
   "outputs": [],
   "source": [
    "import simtk.openmm.app\n",
    "import simtk.openmm\n",
    "import simtk.unit as unit\n",
    "import configparser\n",
    "import numpy as np\n",
    "import itertools\n",
    "import scipy.spatial.distance as sdist\n",
    "import os\n",
    "import pdbfixer\n",
    "import pandas\n",
    "import subprocess\n",
    "import nose"
   ]
  },
  {
   "cell_type": "code",
   "execution_count": 2,
   "metadata": {
    "tags": []
   },
   "outputs": [
    {
     "output_type": "stream",
     "name": "stdout",
     "text": "The location is /mnt/f/linux/script/openna\n4.184\n"
    }
   ],
   "source": [
    "import openna"
   ]
  },
  {
   "cell_type": "code",
   "execution_count": 3,
   "metadata": {},
   "outputs": [],
   "source": [
    "import simtk.openmm\n",
    "pdb=simtk.openmm.app.PDBFile('clean.pdb')\n",
    "top=pdb.topology\n",
    "coord=pdb.positions\n",
    "forcefield=simtk.openmm.app.ForceField(openna.xml)\n",
    "s=forcefield.createSystem(top)"
   ]
  },
  {
   "cell_type": "code",
   "execution_count": 4,
   "metadata": {},
   "outputs": [],
   "source": [
    "rna=openna.RNA.fromCoarsePDB('clean.pdb')\n",
    "rna.periodic=False\n",
    "rna.parseConfigurationFile(configuration_file=f'./openna.conf')"
   ]
  },
  {
   "cell_type": "code",
   "execution_count": 5,
   "metadata": {},
   "outputs": [],
   "source": [
    "import forceTerm\n",
    "all_forces = dict(Backbone=forceTerm.Backbone,\n",
    "                 Angle=forceTerm.Angle)\n",
    "\n",
    "for each_one in all_forces:\n",
    "    force_now = all_forces[each_one](rna)\n",
    "    s.addForce(force_now)"
   ]
  },
  {
   "cell_type": "code",
   "execution_count": 7,
   "metadata": {
    "tags": []
   },
   "outputs": [
    {
     "output_type": "stream",
     "name": "stdout",
     "text": "250.71360500414966\n"
    }
   ],
   "source": [
    "import numpy as np\n",
    "temperature=300 * simtk.openmm.unit.kelvin\n",
    "#platform_name='CUDA'\n",
    "\n",
    "platform_name='Reference'\n",
    "\n",
    "integrator = simtk.openmm.LangevinIntegrator(temperature, 1 / simtk.openmm.unit.picosecond, 2 * simtk.openmm.unit.femtoseconds)\n",
    "platform = simtk.openmm.Platform.getPlatformByName(platform_name)\n",
    "simulation = simtk.openmm.app.Simulation(top, s, integrator, platform)\n",
    "simulation.context.setPositions(coord)\n",
    "energy_unit=simtk.openmm.unit.kilojoule_per_mole\n",
    "state = simulation.context.getState(getEnergy=True)\n",
    "energy = state.getPotentialEnergy().value_in_unit(energy_unit)\n",
    "print(energy)"
   ]
  },
  {
   "cell_type": "code",
   "execution_count": 8,
   "metadata": {
    "tags": []
   },
   "outputs": [
    {
     "output_type": "stream",
     "name": "stdout",
     "text": "TotalEnergy 250.713605 kJ/mol\n"
    }
   ],
   "source": [
    "energy_unit=simtk.openmm.unit.kilojoule_per_mole\n",
    "state = simulation.context.getState(getEnergy=True)\n",
    "energy = state.getPotentialEnergy().value_in_unit(energy_unit)\n",
    "print('TotalEnergy',round(energy,6),energy_unit.get_symbol())"
   ]
  },
  {
   "cell_type": "code",
   "execution_count": 18,
   "metadata": {
    "tags": []
   },
   "outputs": [
    {
     "output_type": "stream",
     "name": "stdout",
     "text": "Backbone 0.0 kJ/mol\nAngle 250.713605 kJ/mol\n"
    }
   ],
   "source": [
    "energies = {}\n",
    "for force_name, force in all_forces.items():\n",
    "    force = force(rna)\n",
    "    group=force.getForceGroup()\n",
    "    state = simulation.context.getState(getEnergy=True, groups=2**group)\n",
    "    energies[force_name] =state.getPotentialEnergy().value_in_unit(energy_unit)\n",
    "\n",
    "for force_name in all_forces.keys():\n",
    "    print(force_name, round(energies[force_name],6),energy_unit.get_symbol())"
   ]
  },
  {
   "cell_type": "code",
   "execution_count": null,
   "metadata": {},
   "outputs": [],
   "source": [
    "import sys\n",
    "dcd_reporter=simtk.openmm.app.DCDReporter(f'output.dcd', 1000)\n",
    "pdb_reporter=simtk.openmm.app.PDBReporter(f'output.pdb', 1000)\n",
    "energy_reporter=simtk.openmm.app.StateDataReporter(sys.stdout, 1000, step=True,time=True,\n",
    "                                                   potentialEnergy=True, temperature=True)\n",
    "simulation.reporters.append(dcd_reporter)\n",
    "simulation.reporters.append(pdb_reporter)\n",
    "simulation.reporters.append(energy_reporter)"
   ]
  }
 ]
}