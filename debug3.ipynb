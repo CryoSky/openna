{
 "metadata": {
  "language_info": {
   "codemirror_mode": {
    "name": "ipython",
    "version": 3
   },
   "file_extension": ".py",
   "mimetype": "text/x-python",
   "name": "python",
   "nbconvert_exporter": "python",
   "pygments_lexer": "ipython3",
   "version": "3.6.12-final"
  },
  "orig_nbformat": 2,
  "kernelspec": {
   "name": "Python 3.6.12 64-bit ('openmm': conda)",
   "display_name": "Python 3.6.12 64-bit ('openmm': conda)",
   "metadata": {
    "interpreter": {
     "hash": "39de5e06d75b7e688983c9b6b88cbeb951b815a7a29a38db4f1a7a9d21b2c62b"
    }
   }
  }
 },
 "nbformat": 4,
 "nbformat_minor": 2,
 "cells": [
  {
   "cell_type": "code",
   "execution_count": 1,
   "metadata": {},
   "outputs": [],
   "source": [
    "import simtk.openmm.app\n",
    "import simtk.openmm\n",
    "import simtk.unit as unit\n",
    "import configparser\n",
    "import numpy as np\n",
    "import itertools\n",
    "import scipy.spatial.distance as sdist\n",
    "import os\n",
    "import pdbfixer\n",
    "import pandas\n",
    "import subprocess\n",
    "import nose"
   ]
  },
  {
   "cell_type": "code",
   "execution_count": 2,
   "metadata": {
    "tags": []
   },
   "outputs": [
    {
     "output_type": "stream",
     "name": "stdout",
     "text": [
      "The location is /mnt/f/linux/script/openna\n4.184\n"
     ]
    }
   ],
   "source": [
    "import openna"
   ]
  },
  {
   "cell_type": "code",
   "execution_count": 3,
   "metadata": {},
   "outputs": [],
   "source": [
    "import simtk.openmm\n",
    "pdb=simtk.openmm.app.PDBFile('clean.pdb')\n",
    "top=pdb.topology\n",
    "coord=pdb.positions\n",
    "forcefield=simtk.openmm.app.ForceField(openna.xml)\n",
    "s=forcefield.createSystem(top)"
   ]
  },
  {
   "cell_type": "code",
   "execution_count": 4,
   "metadata": {},
   "outputs": [],
   "source": [
    "rna=openna.RNA.fromCoarsePDB('clean.pdb')\n",
    "rna.periodic=False\n",
    "rna.parseConfigurationFile(configuration_file=f'./openna.conf')"
   ]
  },
  {
   "cell_type": "code",
   "execution_count": 5,
   "metadata": {},
   "outputs": [
    {
     "output_type": "stream",
     "name": "stdout",
     "text": [
      "  nucleic Base1 Base2  sigma  alpha  rang  epsilon  torsion      t1      t2\n0     RNA     A     U  5.861      2    12  3.99874    50.17  160.91  140.49\n1     RNA     U     A  5.861      2    12  3.99874    50.17  160.91  140.49\n2     RNA     G     C  5.528      2    12  5.06241    38.33  165.25  147.11\n3     RNA     C     G  5.528      2    12  5.06241    38.33  165.25  147.11\n"
     ]
    }
   ],
   "source": [
    "print(rna.pair_definition)"
   ]
  },
  {
   "cell_type": "code",
   "execution_count": 6,
   "metadata": {},
   "outputs": [
    {
     "output_type": "stream",
     "name": "stdout",
     "text": [
      "A C\n[0]\nnucleic        RNA\nBase1            C\nBase2            G\nsigma        5.528\nalpha            2\nrang            12\nepsilon    5.06241\ntorsion      38.33\nt1          165.25\nt2          147.11\nName: 3, dtype: object\nA C\n[2]\nnucleic        RNA\nBase1            C\nBase2            G\nsigma        5.528\nalpha            2\nrang            12\nepsilon    5.06241\ntorsion      38.33\nt1          165.25\nt2          147.11\nName: 3, dtype: object\nA C\n[5]\nnucleic        RNA\nBase1            C\nBase2            G\nsigma        5.528\nalpha            2\nrang            12\nepsilon    5.06241\ntorsion      38.33\nt1          165.25\nt2          147.11\nName: 3, dtype: object\n"
     ]
    }
   ],
   "source": [
    "import forceTerm\n",
    "all_forces = dict(Backbone=forceTerm.Backbone,\n",
    "                 Angle=forceTerm.Angle,\n",
    "                 Dihedral=forceTerm.Dihedral,\n",
    "                 BaseStacking=forceTerm.BaseStacking,\n",
    "                 BasePair=forceTerm.BasePair,\n",
    "                 Exclusion=forceTerm.Exclusion,\n",
    "                 Electrostatics=forceTerm.Electrostatics)\n",
    "\n",
    "for each_one in all_forces:\n",
    "    if each_one == 'Electrostatics':\n",
    "        force_now = all_forces[each_one](rna)\n",
    "        s.addForce(force_now)\n",
    "    elif each_one == 'BasePair':\n",
    "        force_now = all_forces[each_one](rna)\n",
    "        force_now.addForce(s)\n",
    "    else:\n",
    "        force_now = all_forces[each_one](rna)\n",
    "        s.addForce(force_now)\n",
    "    "
   ]
  },
  {
   "cell_type": "code",
   "execution_count": 7,
   "metadata": {},
   "outputs": [
    {
     "output_type": "stream",
     "name": "stdout",
     "text": [
      "  nucleic Base1 Base2  sigma  alpha  rang  epsilon  torsion      t1      t2\n0     RNA     A     U  5.861      2    12  3.99874    50.17  160.91  140.49\n1     RNA     U     A  5.861      2    12  3.99874    50.17  160.91  140.49\n2     RNA     G     C  5.528      2    12  5.06241    38.33  165.25  147.11\n3     RNA     C     G  5.528      2    12  5.06241    38.33  165.25  147.11\n"
     ]
    }
   ],
   "source": [
    "print(rna.pair_definition)"
   ]
  },
  {
   "cell_type": "code",
   "execution_count": null,
   "metadata": {},
   "outputs": [],
   "source": []
  },
  {
   "cell_type": "code",
   "execution_count": 8,
   "metadata": {
    "tags": []
   },
   "outputs": [
    {
     "output_type": "stream",
     "name": "stdout",
     "text": [
      "-37.11984582103105\n"
     ]
    }
   ],
   "source": [
    "import numpy as np\n",
    "temperature=300 * simtk.openmm.unit.kelvin\n",
    "#platform_name='CUDA'\n",
    "\n",
    "platform_name='Reference'\n",
    "\n",
    "integrator = simtk.openmm.LangevinIntegrator(temperature, 1 / simtk.openmm.unit.picosecond, 2 * simtk.openmm.unit.femtoseconds)\n",
    "platform = simtk.openmm.Platform.getPlatformByName(platform_name)\n",
    "simulation = simtk.openmm.app.Simulation(top, s, integrator, platform)\n",
    "simulation.context.setPositions(coord)\n",
    "energy_unit=simtk.openmm.unit.kilojoule_per_mole\n",
    "state = simulation.context.getState(getEnergy=True)\n",
    "energy = state.getPotentialEnergy().value_in_unit(energy_unit)\n",
    "print(energy)"
   ]
  },
  {
   "cell_type": "code",
   "execution_count": 9,
   "metadata": {
    "tags": []
   },
   "outputs": [
    {
     "output_type": "stream",
     "name": "stdout",
     "text": [
      "TotalEnergy -37.119846 kJ/mol\n"
     ]
    }
   ],
   "source": [
    "energy_unit=simtk.openmm.unit.kilojoule_per_mole\n",
    "state = simulation.context.getState(getEnergy=True)\n",
    "energy = state.getPotentialEnergy().value_in_unit(energy_unit)\n",
    "print('TotalEnergy',round(energy,6),energy_unit.get_symbol())"
   ]
  },
  {
   "cell_type": "code",
   "execution_count": 10,
   "metadata": {
    "tags": []
   },
   "outputs": [
    {
     "output_type": "stream",
     "name": "stdout",
     "text": [
      "A C\n",
      "[0]\n",
      "nucleic        RNA\n",
      "Base1            C\n",
      "Base2            G\n",
      "sigma        5.528\n",
      "alpha            2\n",
      "rang            12\n",
      "epsilon    5.06241\n",
      "torsion      38.33\n",
      "t1          165.25\n",
      "t2          147.11\n",
      "Name: 3, dtype: object\n",
      "A C\n",
      "[2]\n",
      "nucleic        RNA\n",
      "Base1            C\n",
      "Base2            G\n",
      "sigma        5.528\n",
      "alpha            2\n",
      "rang            12\n",
      "epsilon    5.06241\n",
      "torsion      38.33\n",
      "t1          165.25\n",
      "t2          147.11\n",
      "Name: 3, dtype: object\n",
      "A C\n",
      "[5]\n",
      "nucleic        RNA\n",
      "Base1            C\n",
      "Base2            G\n",
      "sigma        5.528\n",
      "alpha            2\n",
      "rang            12\n",
      "epsilon    5.06241\n",
      "torsion      38.33\n",
      "t1          165.25\n",
      "t2          147.11\n",
      "Name: 3, dtype: object\n",
      "Backbone 0.0 kJ/mol\n",
      "Angle 19.900579 kJ/mol\n",
      "Dihedral -59.961694 kJ/mol\n",
      "BaseStacking -59.961694 kJ/mol\n",
      "BasePair 0.0 kJ/mol\n",
      "Exclusion 0.0 kJ/mol\n",
      "Electrostatics 2.94127 kJ/mol\n"
     ]
    }
   ],
   "source": [
    "energies = {}\n",
    "for force_name, force in all_forces.items():\n",
    "    force = force(rna)\n",
    "    group=force.getForceGroup()\n",
    "    state = simulation.context.getState(getEnergy=True, groups=2**group)\n",
    "    energies[force_name] =state.getPotentialEnergy().value_in_unit(energy_unit)\n",
    "\n",
    "for force_name in all_forces.keys():\n",
    "    print(force_name, round(energies[force_name],6),energy_unit.get_symbol())"
   ]
  },
  {
   "cell_type": "code",
   "execution_count": 11,
   "metadata": {
    "tags": []
   },
   "outputs": [
    {
     "output_type": "stream",
     "name": "stdout",
     "text": [
      "#\"Step\",\"Time (ps)\",\"Potential Energy (kJ/mole)\",\"Temperature (K)\"\n",
      "1000,2.0000000000000013,-12.716939378635422,273.6438466827353\n",
      "2000,3.999999999999781,2.0003211983117732,305.6486815081939\n",
      "3000,5.999999999999561,-8.54443958158165,237.65931191665604\n",
      "4000,7.999999999999341,-25.149202025844705,267.5962319585667\n",
      "5000,10.000000000000009,-10.556630707945176,364.91906668033323\n",
      "6000,12.000000000000677,3.598204390822898,305.51866019087277\n",
      "7000,14.000000000001345,-17.023492812895874,318.2979236111423\n",
      "8000,16.00000000000201,13.676536860126596,310.1471837275559\n",
      "9000,18.000000000000902,18.646169817524694,349.754535078527\n",
      "10000,19.999999999999794,33.79791734809185,394.4388243467503\n",
      "11000,21.999999999998685,40.52510580547836,411.84278319122654\n",
      "12000,23.999999999997577,59.32995805661276,305.2476229698012\n",
      "13000,25.99999999999647,16.978053700204086,281.039895878374\n",
      "14000,27.99999999999536,55.1234491943869,316.8908499386752\n",
      "15000,29.99999999999425,58.553347929891345,297.3129142773247\n",
      "16000,31.999999999993143,48.53536350455062,314.14948437101435\n",
      "17000,33.99999999999559,61.14832484776149,395.92548988412597\n",
      "18000,35.99999999999803,25.351719927599998,279.4733526828783\n",
      "19000,38.000000000000476,48.659734908236786,245.48398356812555\n",
      "20000,40.00000000000292,43.598689232537254,300.72254053331466\n",
      "21000,42.000000000005365,45.922616643339076,309.65696464401196\n",
      "22000,44.00000000000781,95.96136364689406,352.7908708439669\n",
      "23000,46.00000000001025,64.08484961912926,326.58553043177386\n",
      "24000,48.0000000000127,52.869015117818755,317.751774258718\n",
      "25000,50.00000000001514,42.86089604947851,327.2827990240337\n",
      "26000,52.000000000017586,62.18616043244384,324.78093124433093\n",
      "27000,54.00000000002003,39.20575507453484,362.74288624620766\n",
      "28000,56.000000000022474,69.07582502506273,267.60305757209727\n",
      "29000,58.00000000002492,51.937057721218,274.1663077026505\n",
      "30000,60.00000000002736,29.893474532569037,306.09215181553134\n",
      "31000,62.00000000002981,93.14493217416693,267.93019914957455\n",
      "32000,64.00000000003224,46.563564474051034,353.99985102178846\n",
      "33000,66.00000000002758,46.55300040981397,283.157962126217\n",
      "34000,68.00000000002292,61.96302078772496,412.6067836274755\n",
      "35000,70.00000000001826,40.26433545844854,382.85635132572634\n",
      "36000,72.0000000000136,40.60387464904423,268.77450890889355\n",
      "37000,74.00000000000894,14.366968129034422,307.2225948314544\n",
      "38000,76.00000000000428,49.43605291441205,299.76140312330676\n",
      "39000,77.99999999999962,54.99448267113371,265.8997553593093\n",
      "40000,79.99999999999496,107.82720870861019,321.4758740365446\n",
      "41000,81.9999999999903,54.188163564812584,319.34451102987373\n",
      "42000,83.99999999998563,37.97393486180086,231.39603320011705\n",
      "43000,85.99999999998097,15.234568407542547,262.23581170368624\n",
      "44000,87.99999999997631,34.32922086267613,233.3520059337405\n",
      "45000,89.99999999997165,38.28987662774698,206.9438334275873\n",
      "46000,91.99999999996699,44.640603857208895,351.25385858852815\n",
      "47000,93.99999999996233,78.08000548181593,273.4056212203777\n",
      "48000,95.99999999995767,43.647869339152756,344.3150080927986\n",
      "49000,97.999999999953,38.40967557190309,212.43485910375952\n",
      "50000,99.99999999994834,44.333601570100264,285.75302305131754\n"
     ]
    }
   ],
   "source": [
    "import sys\n",
    "dcd_reporter=simtk.openmm.app.DCDReporter(f'output.dcd', 1000)\n",
    "pdb_reporter=simtk.openmm.app.PDBReporter(f'output.pdb', 1000)\n",
    "energy_reporter=simtk.openmm.app.StateDataReporter(sys.stdout, 1000, step=True,time=True,\n",
    "                                                   potentialEnergy=True, temperature=True)\n",
    "simulation.reporters.append(dcd_reporter)\n",
    "simulation.reporters.append(pdb_reporter)\n",
    "simulation.reporters.append(energy_reporter)\n",
    "#Run simulation\n",
    "simulation.minimizeEnergy()\n",
    "simulation.context.setVelocitiesToTemperature(temperature)\n",
    "simulation.step(50000)"
   ]
  },
  {
   "cell_type": "code",
   "execution_count": null,
   "metadata": {},
   "outputs": [],
   "source": []
  }
 ]
}