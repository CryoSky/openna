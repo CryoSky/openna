{
 "metadata": {
  "language_info": {
   "codemirror_mode": {
    "name": "ipython",
    "version": 3
   },
   "file_extension": ".py",
   "mimetype": "text/x-python",
   "name": "python",
   "nbconvert_exporter": "python",
   "pygments_lexer": "ipython3",
   "version": "3.6.12-final"
  },
  "orig_nbformat": 2,
  "kernelspec": {
   "name": "Python 3.6.12 64-bit ('openmm': conda)",
   "display_name": "Python 3.6.12 64-bit ('openmm': conda)",
   "metadata": {
    "interpreter": {
     "hash": "39de5e06d75b7e688983c9b6b88cbeb951b815a7a29a38db4f1a7a9d21b2c62b"
    }
   }
  }
 },
 "nbformat": 4,
 "nbformat_minor": 2,
 "cells": [
  {
   "cell_type": "code",
   "execution_count": 1,
   "metadata": {},
   "outputs": [],
   "source": [
    "import simtk.openmm.app\n",
    "import simtk.openmm\n",
    "import simtk.unit as unit\n",
    "import configparser\n",
    "import numpy as np\n",
    "import itertools\n",
    "import scipy.spatial.distance as sdist\n",
    "import os\n",
    "import pdbfixer\n",
    "import pandas\n",
    "import subprocess\n",
    "import nose"
   ]
  },
  {
   "cell_type": "code",
   "execution_count": 2,
   "metadata": {
    "tags": []
   },
   "outputs": [
    {
     "output_type": "stream",
     "name": "stdout",
     "text": [
      "The location is /mnt/f/linux/script/openna\n4.184\n"
     ]
    }
   ],
   "source": [
    "import openna"
   ]
  },
  {
   "cell_type": "code",
   "execution_count": 3,
   "metadata": {},
   "outputs": [],
   "source": [
    "import simtk.openmm\n",
    "pdb=simtk.openmm.app.PDBFile('clean.pdb')\n",
    "top=pdb.topology\n",
    "coord=pdb.positions\n",
    "forcefield=simtk.openmm.app.ForceField(openna.xml)\n",
    "s=forcefield.createSystem(top)"
   ]
  },
  {
   "cell_type": "code",
   "execution_count": 4,
   "metadata": {},
   "outputs": [],
   "source": [
    "rna=openna.RNA.fromCoarsePDB('clean.pdb')\n",
    "rna.periodic=False\n",
    "rna.parseConfigurationFile(configuration_file=f'./openna.conf')"
   ]
  },
  {
   "cell_type": "code",
   "execution_count": 5,
   "metadata": {},
   "outputs": [],
   "source": [
    "import forceTerm\n",
    "all_forces = dict(Backbone=forceTerm.Backbone,\n",
    "                 Angle=forceTerm.Angle,\n",
    "                 Dihedral=forceTerm.Dihedral,\n",
    "                 BaseStacking=forceTerm.BaseStacking)\n",
    "\n",
    "for each_one in all_forces:\n",
    "    force_now = all_forces[each_one](rna)\n",
    "    s.addForce(force_now)"
   ]
  },
  {
   "cell_type": "code",
   "execution_count": 6,
   "metadata": {
    "tags": []
   },
   "outputs": [
    {
     "output_type": "stream",
     "name": "stdout",
     "text": [
      "-40.06111592731405\n"
     ]
    }
   ],
   "source": [
    "import numpy as np\n",
    "temperature=300 * simtk.openmm.unit.kelvin\n",
    "#platform_name='CUDA'\n",
    "\n",
    "platform_name='Reference'\n",
    "\n",
    "integrator = simtk.openmm.LangevinIntegrator(temperature, 1 / simtk.openmm.unit.picosecond, 2 * simtk.openmm.unit.femtoseconds)\n",
    "platform = simtk.openmm.Platform.getPlatformByName(platform_name)\n",
    "simulation = simtk.openmm.app.Simulation(top, s, integrator, platform)\n",
    "simulation.context.setPositions(coord)\n",
    "energy_unit=simtk.openmm.unit.kilojoule_per_mole\n",
    "state = simulation.context.getState(getEnergy=True)\n",
    "energy = state.getPotentialEnergy().value_in_unit(energy_unit)\n",
    "print(energy)"
   ]
  },
  {
   "cell_type": "code",
   "execution_count": 7,
   "metadata": {
    "tags": []
   },
   "outputs": [
    {
     "output_type": "stream",
     "name": "stdout",
     "text": [
      "TotalEnergy -40.061116 kJ/mol\n"
     ]
    }
   ],
   "source": [
    "energy_unit=simtk.openmm.unit.kilojoule_per_mole\n",
    "state = simulation.context.getState(getEnergy=True)\n",
    "energy = state.getPotentialEnergy().value_in_unit(energy_unit)\n",
    "print('TotalEnergy',round(energy,6),energy_unit.get_symbol())"
   ]
  },
  {
   "cell_type": "code",
   "execution_count": 8,
   "metadata": {
    "tags": []
   },
   "outputs": [
    {
     "output_type": "stream",
     "name": "stdout",
     "text": [
      "Backbone 0.0 kJ/mol\nAngle 19.900579 kJ/mol\nDihedral 0.0 kJ/mol\nBaseStacking -59.961694 kJ/mol\n"
     ]
    }
   ],
   "source": [
    "energies = {}\n",
    "for force_name, force in all_forces.items():\n",
    "    force = force(rna)\n",
    "    group=force.getForceGroup()\n",
    "    state = simulation.context.getState(getEnergy=True, groups=2**group)\n",
    "    energies[force_name] =state.getPotentialEnergy().value_in_unit(energy_unit)\n",
    "\n",
    "for force_name in all_forces.keys():\n",
    "    print(force_name, round(energies[force_name],6),energy_unit.get_symbol())"
   ]
  },
  {
   "cell_type": "code",
   "execution_count": 9,
   "metadata": {
    "tags": []
   },
   "outputs": [
    {
     "output_type": "stream",
     "name": "stdout",
     "text": [
      "#\"Step\",\"Time (ps)\",\"Potential Energy (kJ/mole)\",\"Temperature (K)\"\n",
      "1000,2.0000000000000013,14.084534822775268,300.4302766663619\n",
      "2000,3.999999999999781,22.882335574471142,317.2118197549066\n",
      "3000,5.999999999999561,19.729323650009547,244.7883028012694\n",
      "4000,7.999999999999341,11.865611369767578,293.08555552935934\n",
      "5000,10.000000000000009,-1.3710826884335603,261.68814836102473\n",
      "6000,12.000000000000677,0.5034598374045771,264.1268907140374\n",
      "7000,14.000000000001345,40.62909735252758,283.0304783018807\n",
      "8000,16.00000000000201,40.79548709503656,270.12946816017563\n",
      "9000,18.000000000000902,7.742212334747975,285.8532337810237\n",
      "10000,19.999999999999794,28.581629829082814,264.45623568589224\n",
      "11000,21.999999999998685,36.97981682078046,293.70209503438343\n",
      "12000,23.999999999997577,15.924966877434741,339.1496128374557\n",
      "13000,25.99999999999647,29.13536074448912,269.291322103523\n",
      "14000,27.99999999999536,62.62409167539662,352.12267907006765\n",
      "15000,29.99999999999425,30.188161096092614,288.243647327029\n",
      "16000,31.999999999993143,66.23941624473593,249.00154997294538\n",
      "17000,33.99999999999559,40.34467382809369,305.7799831732363\n",
      "18000,35.99999999999803,19.284444155661376,323.0205755323894\n",
      "19000,38.000000000000476,52.63858130071162,343.70729708357743\n",
      "20000,40.00000000000292,34.3355389641674,304.06820546638136\n",
      "21000,42.000000000005365,24.937622190381617,397.8259607357512\n",
      "22000,44.00000000000781,43.6442594947873,339.2086807522442\n",
      "23000,46.00000000001025,33.64805826823203,319.96499868769865\n",
      "24000,48.0000000000127,53.774079082943246,256.89563332531554\n",
      "25000,50.00000000001514,41.74207261964541,267.7563164430654\n",
      "26000,52.000000000017586,41.51567073055767,311.7631057422598\n",
      "27000,54.00000000002003,66.45076059568191,335.3669928184077\n",
      "28000,56.000000000022474,66.69194838656387,288.27258339421866\n",
      "29000,58.00000000002492,46.043433440622195,260.3782737957292\n",
      "30000,60.00000000002736,29.25757359827223,277.25033727560856\n",
      "31000,62.00000000002981,87.07303590617457,346.00328081510827\n",
      "32000,64.00000000003224,62.303882084125256,289.10398877047\n",
      "33000,66.00000000002758,44.387152433668334,295.03580338928606\n",
      "34000,68.00000000002292,79.48856117994663,303.8636470248072\n",
      "35000,70.00000000001826,61.26595694615677,293.44198115464974\n",
      "36000,72.0000000000136,41.41610369863575,354.9372707925091\n",
      "37000,74.00000000000894,47.92970881394462,279.83534475092966\n",
      "38000,76.00000000000428,47.30358994311632,369.82186372885946\n",
      "39000,77.99999999999962,59.91594485347447,309.0118184069817\n",
      "40000,79.99999999999496,87.34722120352879,311.7079691551568\n",
      "41000,81.9999999999903,52.41554587491913,314.6394300397144\n",
      "42000,83.99999999998563,86.54032781144738,265.9983384209922\n",
      "43000,85.99999999998097,76.31106170240271,306.2806414332661\n",
      "44000,87.99999999997631,85.57542704132953,284.8032624476908\n",
      "45000,89.99999999997165,83.17291659795421,299.1425441825497\n",
      "46000,91.99999999996699,80.6739076143684,314.4836897673114\n",
      "47000,93.99999999996233,48.75994023509878,303.11822575622745\n",
      "48000,95.99999999995767,51.057660785689826,288.93967987189126\n",
      "49000,97.999999999953,38.36921810774869,242.96271171837282\n",
      "50000,99.99999999994834,19.783197342276445,240.74180381911185\n"
     ]
    }
   ],
   "source": [
    "import sys\n",
    "dcd_reporter=simtk.openmm.app.DCDReporter(f'output.dcd', 1000)\n",
    "pdb_reporter=simtk.openmm.app.PDBReporter(f'output.pdb', 1000)\n",
    "energy_reporter=simtk.openmm.app.StateDataReporter(sys.stdout, 1000, step=True,time=True,\n",
    "                                                   potentialEnergy=True, temperature=True)\n",
    "simulation.reporters.append(dcd_reporter)\n",
    "simulation.reporters.append(pdb_reporter)\n",
    "simulation.reporters.append(energy_reporter)\n",
    "#Run simulation\n",
    "simulation.minimizeEnergy()\n",
    "simulation.context.setVelocitiesToTemperature(temperature)\n",
    "simulation.step(50000)"
   ]
  },
  {
   "cell_type": "code",
   "execution_count": null,
   "metadata": {},
   "outputs": [],
   "source": []
  }
 ]
}