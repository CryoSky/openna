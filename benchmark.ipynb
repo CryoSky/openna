{
 "metadata": {
  "language_info": {
   "codemirror_mode": {
    "name": "ipython",
    "version": 3
   },
   "file_extension": ".py",
   "mimetype": "text/x-python",
   "name": "python",
   "nbconvert_exporter": "python",
   "pygments_lexer": "ipython3",
   "version": "3.6.12-final"
  },
  "orig_nbformat": 2,
  "kernelspec": {
   "name": "python_defaultSpec_1603154100455",
   "display_name": "Python 3.6.12 64-bit ('openmm': conda)"
  }
 },
 "nbformat": 4,
 "nbformat_minor": 2,
 "cells": [
  {
   "cell_type": "code",
   "execution_count": 3,
   "metadata": {},
   "outputs": [],
   "source": [
    "import pandas"
   ]
  },
  {
   "cell_type": "code",
   "execution_count": 4,
   "metadata": {},
   "outputs": [],
   "source": [
    "def parsePDB(pdb_file):\n",
    "    \"\"\"Transforms the pdb file into a pandas table for easy access and data editing.\"\"\"\n",
    "\n",
    "    def pdb_line(line):\n",
    "        return dict(recname=str(line[0:6]).strip(),  # record name\n",
    "                    serial=int(line[6:11]),          # atom serial number\n",
    "                    name=str(line[12:16]).strip(),   # atom name\n",
    "                    altLoc=str(line[16:17]),         # alternate location indicator\n",
    "                    resname=str(line[17:20]).strip(),\n",
    "                    chainID=str(line[21:22]),\n",
    "                    resSeq=int(line[22:26]),         # residue sequence number\n",
    "                    iCode=str(line[26:27]),          # code for insertion of residues\n",
    "                    x=float(line[30:38]),\n",
    "                    y=float(line[38:46]),\n",
    "                    z=float(line[46:54]),\n",
    "                    occupancy=1.0 if line[54:60].strip() == '' else float(line[54:60]), # set to 1.0 because Plumed RMSD need 1.0\n",
    "                    tempFactor=1.0 if line[60:66].strip() == '' else float(line[60:66]),\n",
    "                    element=str(line[76:78]),        # element symbol, right-justified\n",
    "                    charge=str(line[78:80]))         # charge on the atom, right-justified\n",
    "\n",
    "    with open(pdb_file, 'r') as pdb:\n",
    "        lines = []\n",
    "        for line in pdb:\n",
    "            if len(line) > 6 and line[:6] in ['ATOM  ', 'HETATM']:\n",
    "                lines += [pdb_line(line)]\n",
    "    pdb_atoms = pandas.DataFrame(lines)\n",
    "    pdb_atoms = pdb_atoms[['recname', 'serial', 'name', 'altLoc',\n",
    "                           'resname', 'chainID', 'resSeq', 'iCode',\n",
    "                           'x', 'y', 'z', 'occupancy', 'tempFactor',\n",
    "                           'element', 'charge']]\n",
    "    return pdb_atoms"
   ]
  },
  {
   "cell_type": "code",
   "execution_count": 5,
   "metadata": {},
   "outputs": [],
   "source": [
    "test1 = parsePDB('/mnt/f/trash/20201014_pdb_rna/all_rna/1A34.pdb')"
   ]
  },
  {
   "cell_type": "code",
   "execution_count": 13,
   "metadata": {
    "tags": []
   },
   "outputs": [],
   "source": [
    "test2 = test1[test1['resname'].isin(['A', 'U', 'C', 'G'])]"
   ]
  },
  {
   "cell_type": "code",
   "execution_count": 15,
   "metadata": {
    "tags": []
   },
   "outputs": [
    {
     "output_type": "stream",
     "name": "stdout",
     "text": "recname  serial  name altLoc resname chainID  resSeq iCode       x  \\\n2309    ATOM    2311   OP3              A       B       1        12.339   \n2310    ATOM    2312     P              A       B       1        13.774   \n2311    ATOM    2313   OP1              A       B       1        13.967   \n2312    ATOM    2314   OP2              A       B       1        13.788   \n2313    ATOM    2315   O5'              A       B       1        14.872   \n...      ...     ...   ...    ...     ...     ...     ...   ...     ...   \n2965    ATOM    2969   H4'              U       B      11         3.311   \n2966    ATOM    2970   H3'              U       B      11         4.823   \n2967    ATOM    2971  HO3'              U       B      11         4.375   \n2968    ATOM    2972  HO2'              U       B      11         3.546   \n2969    ATOM    2973   H1'              U       B      11         1.650   \n\n           y       z  occupancy  tempFactor element charge  \n2309  38.322  15.489       0.50      220.88       O         \n2310  39.026  15.251       0.50      220.71       P         \n2311  39.419  13.808       0.50      220.58       O         \n2312  40.109  16.300       0.50      220.88       O         \n2313  37.934  15.708       0.50      218.41       O         \n...      ...     ...        ...         ...     ...    ...  \n2965  50.716  34.658       0.42       50.36       H         \n2966  48.648  33.622       0.42       50.36       H         \n2967  49.717  35.886       0.42       50.36       H         \n2968  46.686  35.695       0.42       50.36       H         \n2969  48.031  35.624       0.42       50.36       H         \n\n[656 rows x 15 columns]\n"
    }
   ],
   "source": [
    "test3 = test2.replace({'recname': {'HETATM': 'ATOM'}})\n",
    "print(test3)"
   ]
  },
  {
   "cell_type": "code",
   "execution_count": 19,
   "metadata": {},
   "outputs": [
    {
     "output_type": "execute_result",
     "data": {
      "text/plain": "     index recname  serial  name altLoc resname chainID  resSeq iCode       x  \\\n0     2309    ATOM    2311   OP3              A       B       1        12.339   \n1     2310    ATOM    2312     P              A       B       1        13.774   \n2     2311    ATOM    2313   OP1              A       B       1        13.967   \n3     2312    ATOM    2314   OP2              A       B       1        13.788   \n4     2313    ATOM    2315   O5'              A       B       1        14.872   \n..     ...     ...     ...   ...    ...     ...     ...     ...   ...     ...   \n651   2965    ATOM    2969   H4'              U       B      11         3.311   \n652   2966    ATOM    2970   H3'              U       B      11         4.823   \n653   2967    ATOM    2971  HO3'              U       B      11         4.375   \n654   2968    ATOM    2972  HO2'              U       B      11         3.546   \n655   2969    ATOM    2973   H1'              U       B      11         1.650   \n\n          y       z  occupancy  tempFactor element charge  \n0    38.322  15.489       0.50      220.88       O         \n1    39.026  15.251       0.50      220.71       P         \n2    39.419  13.808       0.50      220.58       O         \n3    40.109  16.300       0.50      220.88       O         \n4    37.934  15.708       0.50      218.41       O         \n..      ...     ...        ...         ...     ...    ...  \n651  50.716  34.658       0.42       50.36       H         \n652  48.648  33.622       0.42       50.36       H         \n653  49.717  35.886       0.42       50.36       H         \n654  46.686  35.695       0.42       50.36       H         \n655  48.031  35.624       0.42       50.36       H         \n\n[656 rows x 16 columns]",
      "text/html": "<div>\n<style scoped>\n    .dataframe tbody tr th:only-of-type {\n        vertical-align: middle;\n    }\n\n    .dataframe tbody tr th {\n        vertical-align: top;\n    }\n\n    .dataframe thead th {\n        text-align: right;\n    }\n</style>\n<table border=\"1\" class=\"dataframe\">\n  <thead>\n    <tr style=\"text-align: right;\">\n      <th></th>\n      <th>index</th>\n      <th>recname</th>\n      <th>serial</th>\n      <th>name</th>\n      <th>altLoc</th>\n      <th>resname</th>\n      <th>chainID</th>\n      <th>resSeq</th>\n      <th>iCode</th>\n      <th>x</th>\n      <th>y</th>\n      <th>z</th>\n      <th>occupancy</th>\n      <th>tempFactor</th>\n      <th>element</th>\n      <th>charge</th>\n    </tr>\n  </thead>\n  <tbody>\n    <tr>\n      <th>0</th>\n      <td>2309</td>\n      <td>ATOM</td>\n      <td>2311</td>\n      <td>OP3</td>\n      <td></td>\n      <td>A</td>\n      <td>B</td>\n      <td>1</td>\n      <td></td>\n      <td>12.339</td>\n      <td>38.322</td>\n      <td>15.489</td>\n      <td>0.50</td>\n      <td>220.88</td>\n      <td>O</td>\n      <td></td>\n    </tr>\n    <tr>\n      <th>1</th>\n      <td>2310</td>\n      <td>ATOM</td>\n      <td>2312</td>\n      <td>P</td>\n      <td></td>\n      <td>A</td>\n      <td>B</td>\n      <td>1</td>\n      <td></td>\n      <td>13.774</td>\n      <td>39.026</td>\n      <td>15.251</td>\n      <td>0.50</td>\n      <td>220.71</td>\n      <td>P</td>\n      <td></td>\n    </tr>\n    <tr>\n      <th>2</th>\n      <td>2311</td>\n      <td>ATOM</td>\n      <td>2313</td>\n      <td>OP1</td>\n      <td></td>\n      <td>A</td>\n      <td>B</td>\n      <td>1</td>\n      <td></td>\n      <td>13.967</td>\n      <td>39.419</td>\n      <td>13.808</td>\n      <td>0.50</td>\n      <td>220.58</td>\n      <td>O</td>\n      <td></td>\n    </tr>\n    <tr>\n      <th>3</th>\n      <td>2312</td>\n      <td>ATOM</td>\n      <td>2314</td>\n      <td>OP2</td>\n      <td></td>\n      <td>A</td>\n      <td>B</td>\n      <td>1</td>\n      <td></td>\n      <td>13.788</td>\n      <td>40.109</td>\n      <td>16.300</td>\n      <td>0.50</td>\n      <td>220.88</td>\n      <td>O</td>\n      <td></td>\n    </tr>\n    <tr>\n      <th>4</th>\n      <td>2313</td>\n      <td>ATOM</td>\n      <td>2315</td>\n      <td>O5'</td>\n      <td></td>\n      <td>A</td>\n      <td>B</td>\n      <td>1</td>\n      <td></td>\n      <td>14.872</td>\n      <td>37.934</td>\n      <td>15.708</td>\n      <td>0.50</td>\n      <td>218.41</td>\n      <td>O</td>\n      <td></td>\n    </tr>\n    <tr>\n      <th>...</th>\n      <td>...</td>\n      <td>...</td>\n      <td>...</td>\n      <td>...</td>\n      <td>...</td>\n      <td>...</td>\n      <td>...</td>\n      <td>...</td>\n      <td>...</td>\n      <td>...</td>\n      <td>...</td>\n      <td>...</td>\n      <td>...</td>\n      <td>...</td>\n      <td>...</td>\n      <td>...</td>\n    </tr>\n    <tr>\n      <th>651</th>\n      <td>2965</td>\n      <td>ATOM</td>\n      <td>2969</td>\n      <td>H4'</td>\n      <td></td>\n      <td>U</td>\n      <td>B</td>\n      <td>11</td>\n      <td></td>\n      <td>3.311</td>\n      <td>50.716</td>\n      <td>34.658</td>\n      <td>0.42</td>\n      <td>50.36</td>\n      <td>H</td>\n      <td></td>\n    </tr>\n    <tr>\n      <th>652</th>\n      <td>2966</td>\n      <td>ATOM</td>\n      <td>2970</td>\n      <td>H3'</td>\n      <td></td>\n      <td>U</td>\n      <td>B</td>\n      <td>11</td>\n      <td></td>\n      <td>4.823</td>\n      <td>48.648</td>\n      <td>33.622</td>\n      <td>0.42</td>\n      <td>50.36</td>\n      <td>H</td>\n      <td></td>\n    </tr>\n    <tr>\n      <th>653</th>\n      <td>2967</td>\n      <td>ATOM</td>\n      <td>2971</td>\n      <td>HO3'</td>\n      <td></td>\n      <td>U</td>\n      <td>B</td>\n      <td>11</td>\n      <td></td>\n      <td>4.375</td>\n      <td>49.717</td>\n      <td>35.886</td>\n      <td>0.42</td>\n      <td>50.36</td>\n      <td>H</td>\n      <td></td>\n    </tr>\n    <tr>\n      <th>654</th>\n      <td>2968</td>\n      <td>ATOM</td>\n      <td>2972</td>\n      <td>HO2'</td>\n      <td></td>\n      <td>U</td>\n      <td>B</td>\n      <td>11</td>\n      <td></td>\n      <td>3.546</td>\n      <td>46.686</td>\n      <td>35.695</td>\n      <td>0.42</td>\n      <td>50.36</td>\n      <td>H</td>\n      <td></td>\n    </tr>\n    <tr>\n      <th>655</th>\n      <td>2969</td>\n      <td>ATOM</td>\n      <td>2973</td>\n      <td>H1'</td>\n      <td></td>\n      <td>U</td>\n      <td>B</td>\n      <td>11</td>\n      <td></td>\n      <td>1.650</td>\n      <td>48.031</td>\n      <td>35.624</td>\n      <td>0.42</td>\n      <td>50.36</td>\n      <td>H</td>\n      <td></td>\n    </tr>\n  </tbody>\n</table>\n<p>656 rows × 16 columns</p>\n</div>"
     },
     "metadata": {},
     "execution_count": 19
    }
   ],
   "source": [
    "test3.reset_index()"
   ]
  },
  {
   "cell_type": "code",
   "execution_count": 31,
   "metadata": {},
   "outputs": [],
   "source": [
    "test4 = test2.reset_index()\n",
    "test4['serial'] = test4.index+1"
   ]
  },
  {
   "cell_type": "code",
   "execution_count": 32,
   "metadata": {},
   "outputs": [
    {
     "output_type": "execute_result",
     "data": {
      "text/plain": "     index recname  serial  name altLoc resname chainID  resSeq iCode       x  \\\n0     2309    ATOM       1   OP3              A       B       1        12.339   \n1     2310    ATOM       2     P              A       B       1        13.774   \n2     2311    ATOM       3   OP1              A       B       1        13.967   \n3     2312    ATOM       4   OP2              A       B       1        13.788   \n4     2313    ATOM       5   O5'              A       B       1        14.872   \n..     ...     ...     ...   ...    ...     ...     ...     ...   ...     ...   \n651   2965  HETATM     652   H4'              U       B      11         3.311   \n652   2966  HETATM     653   H3'              U       B      11         4.823   \n653   2967  HETATM     654  HO3'              U       B      11         4.375   \n654   2968  HETATM     655  HO2'              U       B      11         3.546   \n655   2969  HETATM     656   H1'              U       B      11         1.650   \n\n          y       z  occupancy  tempFactor element charge  \n0    38.322  15.489       0.50      220.88       O         \n1    39.026  15.251       0.50      220.71       P         \n2    39.419  13.808       0.50      220.58       O         \n3    40.109  16.300       0.50      220.88       O         \n4    37.934  15.708       0.50      218.41       O         \n..      ...     ...        ...         ...     ...    ...  \n651  50.716  34.658       0.42       50.36       H         \n652  48.648  33.622       0.42       50.36       H         \n653  49.717  35.886       0.42       50.36       H         \n654  46.686  35.695       0.42       50.36       H         \n655  48.031  35.624       0.42       50.36       H         \n\n[656 rows x 16 columns]",
      "text/html": "<div>\n<style scoped>\n    .dataframe tbody tr th:only-of-type {\n        vertical-align: middle;\n    }\n\n    .dataframe tbody tr th {\n        vertical-align: top;\n    }\n\n    .dataframe thead th {\n        text-align: right;\n    }\n</style>\n<table border=\"1\" class=\"dataframe\">\n  <thead>\n    <tr style=\"text-align: right;\">\n      <th></th>\n      <th>index</th>\n      <th>recname</th>\n      <th>serial</th>\n      <th>name</th>\n      <th>altLoc</th>\n      <th>resname</th>\n      <th>chainID</th>\n      <th>resSeq</th>\n      <th>iCode</th>\n      <th>x</th>\n      <th>y</th>\n      <th>z</th>\n      <th>occupancy</th>\n      <th>tempFactor</th>\n      <th>element</th>\n      <th>charge</th>\n    </tr>\n  </thead>\n  <tbody>\n    <tr>\n      <th>0</th>\n      <td>2309</td>\n      <td>ATOM</td>\n      <td>1</td>\n      <td>OP3</td>\n      <td></td>\n      <td>A</td>\n      <td>B</td>\n      <td>1</td>\n      <td></td>\n      <td>12.339</td>\n      <td>38.322</td>\n      <td>15.489</td>\n      <td>0.50</td>\n      <td>220.88</td>\n      <td>O</td>\n      <td></td>\n    </tr>\n    <tr>\n      <th>1</th>\n      <td>2310</td>\n      <td>ATOM</td>\n      <td>2</td>\n      <td>P</td>\n      <td></td>\n      <td>A</td>\n      <td>B</td>\n      <td>1</td>\n      <td></td>\n      <td>13.774</td>\n      <td>39.026</td>\n      <td>15.251</td>\n      <td>0.50</td>\n      <td>220.71</td>\n      <td>P</td>\n      <td></td>\n    </tr>\n    <tr>\n      <th>2</th>\n      <td>2311</td>\n      <td>ATOM</td>\n      <td>3</td>\n      <td>OP1</td>\n      <td></td>\n      <td>A</td>\n      <td>B</td>\n      <td>1</td>\n      <td></td>\n      <td>13.967</td>\n      <td>39.419</td>\n      <td>13.808</td>\n      <td>0.50</td>\n      <td>220.58</td>\n      <td>O</td>\n      <td></td>\n    </tr>\n    <tr>\n      <th>3</th>\n      <td>2312</td>\n      <td>ATOM</td>\n      <td>4</td>\n      <td>OP2</td>\n      <td></td>\n      <td>A</td>\n      <td>B</td>\n      <td>1</td>\n      <td></td>\n      <td>13.788</td>\n      <td>40.109</td>\n      <td>16.300</td>\n      <td>0.50</td>\n      <td>220.88</td>\n      <td>O</td>\n      <td></td>\n    </tr>\n    <tr>\n      <th>4</th>\n      <td>2313</td>\n      <td>ATOM</td>\n      <td>5</td>\n      <td>O5'</td>\n      <td></td>\n      <td>A</td>\n      <td>B</td>\n      <td>1</td>\n      <td></td>\n      <td>14.872</td>\n      <td>37.934</td>\n      <td>15.708</td>\n      <td>0.50</td>\n      <td>218.41</td>\n      <td>O</td>\n      <td></td>\n    </tr>\n    <tr>\n      <th>...</th>\n      <td>...</td>\n      <td>...</td>\n      <td>...</td>\n      <td>...</td>\n      <td>...</td>\n      <td>...</td>\n      <td>...</td>\n      <td>...</td>\n      <td>...</td>\n      <td>...</td>\n      <td>...</td>\n      <td>...</td>\n      <td>...</td>\n      <td>...</td>\n      <td>...</td>\n      <td>...</td>\n    </tr>\n    <tr>\n      <th>651</th>\n      <td>2965</td>\n      <td>HETATM</td>\n      <td>652</td>\n      <td>H4'</td>\n      <td></td>\n      <td>U</td>\n      <td>B</td>\n      <td>11</td>\n      <td></td>\n      <td>3.311</td>\n      <td>50.716</td>\n      <td>34.658</td>\n      <td>0.42</td>\n      <td>50.36</td>\n      <td>H</td>\n      <td></td>\n    </tr>\n    <tr>\n      <th>652</th>\n      <td>2966</td>\n      <td>HETATM</td>\n      <td>653</td>\n      <td>H3'</td>\n      <td></td>\n      <td>U</td>\n      <td>B</td>\n      <td>11</td>\n      <td></td>\n      <td>4.823</td>\n      <td>48.648</td>\n      <td>33.622</td>\n      <td>0.42</td>\n      <td>50.36</td>\n      <td>H</td>\n      <td></td>\n    </tr>\n    <tr>\n      <th>653</th>\n      <td>2967</td>\n      <td>HETATM</td>\n      <td>654</td>\n      <td>HO3'</td>\n      <td></td>\n      <td>U</td>\n      <td>B</td>\n      <td>11</td>\n      <td></td>\n      <td>4.375</td>\n      <td>49.717</td>\n      <td>35.886</td>\n      <td>0.42</td>\n      <td>50.36</td>\n      <td>H</td>\n      <td></td>\n    </tr>\n    <tr>\n      <th>654</th>\n      <td>2968</td>\n      <td>HETATM</td>\n      <td>655</td>\n      <td>HO2'</td>\n      <td></td>\n      <td>U</td>\n      <td>B</td>\n      <td>11</td>\n      <td></td>\n      <td>3.546</td>\n      <td>46.686</td>\n      <td>35.695</td>\n      <td>0.42</td>\n      <td>50.36</td>\n      <td>H</td>\n      <td></td>\n    </tr>\n    <tr>\n      <th>655</th>\n      <td>2969</td>\n      <td>HETATM</td>\n      <td>656</td>\n      <td>H1'</td>\n      <td></td>\n      <td>U</td>\n      <td>B</td>\n      <td>11</td>\n      <td></td>\n      <td>1.650</td>\n      <td>48.031</td>\n      <td>35.624</td>\n      <td>0.42</td>\n      <td>50.36</td>\n      <td>H</td>\n      <td></td>\n    </tr>\n  </tbody>\n</table>\n<p>656 rows × 16 columns</p>\n</div>"
     },
     "metadata": {},
     "execution_count": 32
    }
   ],
   "source": [
    "test4"
   ]
  },
  {
   "cell_type": "code",
   "execution_count": 33,
   "metadata": {},
   "outputs": [],
   "source": [
    "test5 = test4.drop(columns=['index'])"
   ]
  },
  {
   "cell_type": "code",
   "execution_count": 34,
   "metadata": {},
   "outputs": [
    {
     "output_type": "execute_result",
     "data": {
      "text/plain": "    recname  serial  name altLoc resname chainID  resSeq iCode       x  \\\n0      ATOM       1   OP3              A       B       1        12.339   \n1      ATOM       2     P              A       B       1        13.774   \n2      ATOM       3   OP1              A       B       1        13.967   \n3      ATOM       4   OP2              A       B       1        13.788   \n4      ATOM       5   O5'              A       B       1        14.872   \n..      ...     ...   ...    ...     ...     ...     ...   ...     ...   \n651  HETATM     652   H4'              U       B      11         3.311   \n652  HETATM     653   H3'              U       B      11         4.823   \n653  HETATM     654  HO3'              U       B      11         4.375   \n654  HETATM     655  HO2'              U       B      11         3.546   \n655  HETATM     656   H1'              U       B      11         1.650   \n\n          y       z  occupancy  tempFactor element charge  \n0    38.322  15.489       0.50      220.88       O         \n1    39.026  15.251       0.50      220.71       P         \n2    39.419  13.808       0.50      220.58       O         \n3    40.109  16.300       0.50      220.88       O         \n4    37.934  15.708       0.50      218.41       O         \n..      ...     ...        ...         ...     ...    ...  \n651  50.716  34.658       0.42       50.36       H         \n652  48.648  33.622       0.42       50.36       H         \n653  49.717  35.886       0.42       50.36       H         \n654  46.686  35.695       0.42       50.36       H         \n655  48.031  35.624       0.42       50.36       H         \n\n[656 rows x 15 columns]",
      "text/html": "<div>\n<style scoped>\n    .dataframe tbody tr th:only-of-type {\n        vertical-align: middle;\n    }\n\n    .dataframe tbody tr th {\n        vertical-align: top;\n    }\n\n    .dataframe thead th {\n        text-align: right;\n    }\n</style>\n<table border=\"1\" class=\"dataframe\">\n  <thead>\n    <tr style=\"text-align: right;\">\n      <th></th>\n      <th>recname</th>\n      <th>serial</th>\n      <th>name</th>\n      <th>altLoc</th>\n      <th>resname</th>\n      <th>chainID</th>\n      <th>resSeq</th>\n      <th>iCode</th>\n      <th>x</th>\n      <th>y</th>\n      <th>z</th>\n      <th>occupancy</th>\n      <th>tempFactor</th>\n      <th>element</th>\n      <th>charge</th>\n    </tr>\n  </thead>\n  <tbody>\n    <tr>\n      <th>0</th>\n      <td>ATOM</td>\n      <td>1</td>\n      <td>OP3</td>\n      <td></td>\n      <td>A</td>\n      <td>B</td>\n      <td>1</td>\n      <td></td>\n      <td>12.339</td>\n      <td>38.322</td>\n      <td>15.489</td>\n      <td>0.50</td>\n      <td>220.88</td>\n      <td>O</td>\n      <td></td>\n    </tr>\n    <tr>\n      <th>1</th>\n      <td>ATOM</td>\n      <td>2</td>\n      <td>P</td>\n      <td></td>\n      <td>A</td>\n      <td>B</td>\n      <td>1</td>\n      <td></td>\n      <td>13.774</td>\n      <td>39.026</td>\n      <td>15.251</td>\n      <td>0.50</td>\n      <td>220.71</td>\n      <td>P</td>\n      <td></td>\n    </tr>\n    <tr>\n      <th>2</th>\n      <td>ATOM</td>\n      <td>3</td>\n      <td>OP1</td>\n      <td></td>\n      <td>A</td>\n      <td>B</td>\n      <td>1</td>\n      <td></td>\n      <td>13.967</td>\n      <td>39.419</td>\n      <td>13.808</td>\n      <td>0.50</td>\n      <td>220.58</td>\n      <td>O</td>\n      <td></td>\n    </tr>\n    <tr>\n      <th>3</th>\n      <td>ATOM</td>\n      <td>4</td>\n      <td>OP2</td>\n      <td></td>\n      <td>A</td>\n      <td>B</td>\n      <td>1</td>\n      <td></td>\n      <td>13.788</td>\n      <td>40.109</td>\n      <td>16.300</td>\n      <td>0.50</td>\n      <td>220.88</td>\n      <td>O</td>\n      <td></td>\n    </tr>\n    <tr>\n      <th>4</th>\n      <td>ATOM</td>\n      <td>5</td>\n      <td>O5'</td>\n      <td></td>\n      <td>A</td>\n      <td>B</td>\n      <td>1</td>\n      <td></td>\n      <td>14.872</td>\n      <td>37.934</td>\n      <td>15.708</td>\n      <td>0.50</td>\n      <td>218.41</td>\n      <td>O</td>\n      <td></td>\n    </tr>\n    <tr>\n      <th>...</th>\n      <td>...</td>\n      <td>...</td>\n      <td>...</td>\n      <td>...</td>\n      <td>...</td>\n      <td>...</td>\n      <td>...</td>\n      <td>...</td>\n      <td>...</td>\n      <td>...</td>\n      <td>...</td>\n      <td>...</td>\n      <td>...</td>\n      <td>...</td>\n      <td>...</td>\n    </tr>\n    <tr>\n      <th>651</th>\n      <td>HETATM</td>\n      <td>652</td>\n      <td>H4'</td>\n      <td></td>\n      <td>U</td>\n      <td>B</td>\n      <td>11</td>\n      <td></td>\n      <td>3.311</td>\n      <td>50.716</td>\n      <td>34.658</td>\n      <td>0.42</td>\n      <td>50.36</td>\n      <td>H</td>\n      <td></td>\n    </tr>\n    <tr>\n      <th>652</th>\n      <td>HETATM</td>\n      <td>653</td>\n      <td>H3'</td>\n      <td></td>\n      <td>U</td>\n      <td>B</td>\n      <td>11</td>\n      <td></td>\n      <td>4.823</td>\n      <td>48.648</td>\n      <td>33.622</td>\n      <td>0.42</td>\n      <td>50.36</td>\n      <td>H</td>\n      <td></td>\n    </tr>\n    <tr>\n      <th>653</th>\n      <td>HETATM</td>\n      <td>654</td>\n      <td>HO3'</td>\n      <td></td>\n      <td>U</td>\n      <td>B</td>\n      <td>11</td>\n      <td></td>\n      <td>4.375</td>\n      <td>49.717</td>\n      <td>35.886</td>\n      <td>0.42</td>\n      <td>50.36</td>\n      <td>H</td>\n      <td></td>\n    </tr>\n    <tr>\n      <th>654</th>\n      <td>HETATM</td>\n      <td>655</td>\n      <td>HO2'</td>\n      <td></td>\n      <td>U</td>\n      <td>B</td>\n      <td>11</td>\n      <td></td>\n      <td>3.546</td>\n      <td>46.686</td>\n      <td>35.695</td>\n      <td>0.42</td>\n      <td>50.36</td>\n      <td>H</td>\n      <td></td>\n    </tr>\n    <tr>\n      <th>655</th>\n      <td>HETATM</td>\n      <td>656</td>\n      <td>H1'</td>\n      <td></td>\n      <td>U</td>\n      <td>B</td>\n      <td>11</td>\n      <td></td>\n      <td>1.650</td>\n      <td>48.031</td>\n      <td>35.624</td>\n      <td>0.42</td>\n      <td>50.36</td>\n      <td>H</td>\n      <td></td>\n    </tr>\n  </tbody>\n</table>\n<p>656 rows × 15 columns</p>\n</div>"
     },
     "metadata": {},
     "execution_count": 34
    }
   ],
   "source": [
    "test5"
   ]
  },
  {
   "cell_type": "code",
   "execution_count": 35,
   "metadata": {},
   "outputs": [],
   "source": []
  },
  {
   "cell_type": "code",
   "execution_count": 44,
   "metadata": {},
   "outputs": [],
   "source": [
    "test6 = test5[test5['recname'] != 'HETATM']"
   ]
  },
  {
   "cell_type": "code",
   "execution_count": 46,
   "metadata": {},
   "outputs": [],
   "source": [
    "test6.to_csv(path_or_buf='/mnt/e/test.csv', index=False)"
   ]
  },
  {
   "cell_type": "code",
   "execution_count": null,
   "metadata": {},
   "outputs": [],
   "source": []
  }
 ]
}