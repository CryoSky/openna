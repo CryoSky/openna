{
 "cells": [
  {
   "cell_type": "code",
   "execution_count": 96,
   "metadata": {},
   "outputs": [],
   "source": [
    "import simtk.openmm.app\n",
    "import simtk.openmm\n",
    "import simtk.unit as unit\n",
    "import configparser\n",
    "import numpy as np\n",
    "import itertools\n",
    "import scipy.spatial.distance as sdist\n",
    "import os\n",
    "import pdbfixer\n",
    "import pandas\n",
    "import subprocess\n",
    "import nose"
   ]
  },
  {
   "cell_type": "code",
   "execution_count": 97,
   "metadata": {},
   "outputs": [],
   "source": [
    "def parseConfigTable(config_section):\n",
    "    \"\"\" Parses a section of the configuration file as a table.\n",
    "        This function is used to parse the openna.conf file\"\"\"\n",
    "\n",
    "    def readData(config_section, a):\n",
    "        \"\"\"Filters comments and returns values as a list\"\"\"\n",
    "        temp = config_section.get(a).split('#')[0].split()\n",
    "        l = []\n",
    "        for val in temp:\n",
    "            val = val.strip()\n",
    "            try:\n",
    "                x = int(val)\n",
    "                l += [x]\n",
    "            except ValueError:\n",
    "                try:\n",
    "                    y = float(val)\n",
    "                    l += [y]\n",
    "                except ValueError:\n",
    "                    l += [val]\n",
    "        return l\n",
    "\n",
    "    data = []\n",
    "    for a in config_section:\n",
    "        if a == 'name':\n",
    "            columns = readData(config_section, a)\n",
    "            print(columns)\n",
    "        elif len(a) > 3 and a[:3] == 'row':\n",
    "            data += [readData(config_section, a)]\n",
    "        else:\n",
    "            print(f'Unexpected row {readData(config_section, a)}')\n",
    "    return pandas.DataFrame(data, columns=columns)"
   ]
  },
  {
   "cell_type": "code",
   "execution_count": 98,
   "metadata": {},
   "outputs": [],
   "source": [
    "class DNA(object):\n",
    "    \"\"\" A Coarse Grained DNA object.\"\"\"\n",
    "    def __init__(self, periodic=True):\n",
    "        \"\"\"Initializes an DNA object\"\"\"\n",
    "        self.periodic = periodic\n",
    "        \n",
    "    def parseConfigurationFile(self, configuration_file=f'./openna.conf'):\n",
    "        \"\"\"Reads the configuration file for the forcefield. The default configuration file is 3SPN2.conf\n",
    "        and it contains most of the parameters used in the simulation.\"\"\"\n",
    "        self.configuration_file = configuration_file\n",
    "        config = configparser.ConfigParser()\n",
    "        config.read(configuration_file)\n",
    "\n",
    "        # Parse all sections of the configuration file\n",
    "        self.config = {}\n",
    "        for c in config.sections():\n",
    "            self.config.update({c: parseConfigTable(config[c])})\n",
    "\n",
    "        # Assign main sections to variables\n",
    "        self.particle_definition = self.config['Particles']"
   ]
  },
  {
   "cell_type": "code",
   "execution_count": 99,
   "metadata": {},
   "outputs": [],
   "source": [
    "TEST = DNA()"
   ]
  },
  {
   "cell_type": "code",
   "execution_count": 100,
   "metadata": {
    "scrolled": true,
    "tags": []
   },
   "outputs": [
    {
     "output_type": "stream",
     "name": "stdout",
     "text": "['nucleic', 'name', 'epsilon', 'radius', 'mass', 'charge']\n['nucleic', 'i', 'j', 's1', 'r0', 'Kb2', 'Kb3', 'Kb4']\n"
    }
   ],
   "source": [
    "TEST.parseConfigurationFile()"
   ]
  },
  {
   "cell_type": "code",
   "execution_count": 101,
   "metadata": {},
   "outputs": [
    {
     "output_type": "error",
     "ename": "SyntaxError",
     "evalue": "invalid syntax (<ipython-input-101-58306b89e974>, line 1)",
     "traceback": [
      "\u001b[0;36m  File \u001b[0;32m\"<ipython-input-101-58306b89e974>\"\u001b[0;36m, line \u001b[0;32m1\u001b[0m\n\u001b[0;31m    TEST.\u001b[0m\n\u001b[0m         ^\u001b[0m\n\u001b[0;31mSyntaxError\u001b[0m\u001b[0;31m:\u001b[0m invalid syntax\n"
     ]
    }
   ],
   "source": [
    "TEST."
   ]
  },
  {
   "cell_type": "code",
   "execution_count": 102,
   "metadata": {},
   "outputs": [],
   "source": [
    "a = DNA()"
   ]
  },
  {
   "cell_type": "code",
   "execution_count": 103,
   "metadata": {
    "tags": []
   },
   "outputs": [
    {
     "output_type": "stream",
     "name": "stdout",
     "text": "['nucleic', 'name', 'epsilon', 'radius', 'mass', 'charge']\n['nucleic', 'i', 'j', 's1', 'r0', 'Kb2', 'Kb3', 'Kb4']\n"
    }
   ],
   "source": [
    "a.parseConfigurationFile()"
   ]
  },
  {
   "cell_type": "code",
   "execution_count": 104,
   "metadata": {
    "tags": []
   },
   "outputs": [
    {
     "output_type": "stream",
     "name": "stdout",
     "text": "nucleic name   epsilon  radius      mass  charge\n0      RNA    P  0.239006     4.5   94.9696    -0.6\n1      RNA    S  0.239006     6.2   99.1094     0.0\n2      RNA    A  0.239006     5.4  134.1220     0.0\n3      RNA    U  0.239006     7.1  109.0620     0.0\n4      RNA    G  0.239006     4.9  150.1214     0.0\n5      RNA    C  0.239006     6.4  110.0964     0.0\n6      DNA    P  0.239006     4.5   94.9696    -0.6\n7      DNA    S  0.239006     6.2   83.1104     0.0\n8      DNA    A  0.239006     5.4  134.1220     0.0\n9      DNA    T  0.239006     7.1  125.1078     0.0\n10     DNA    G  0.239006     4.9  150.1214     0.0\n11     DNA    C  0.239006     6.4  110.0964     0.0\n"
    }
   ],
   "source": [
    "print(a.particle_definition)"
   ]
  },
  {
   "cell_type": "code",
   "execution_count": 105,
   "metadata": {},
   "outputs": [
    {
     "output_type": "execute_result",
     "data": {
      "text/plain": "'./openna.conf'"
     },
     "metadata": {},
     "execution_count": 105
    }
   ],
   "source": [
    "a.configuration_file"
   ]
  },
  {
   "cell_type": "code",
   "execution_count": 106,
   "metadata": {},
   "outputs": [
    {
     "output_type": "execute_result",
     "data": {
      "text/plain": "{'Particles':    nucleic name   epsilon  radius      mass  charge\n 0      RNA    P  0.239006     4.5   94.9696    -0.6\n 1      RNA    S  0.239006     6.2   99.1094     0.0\n 2      RNA    A  0.239006     5.4  134.1220     0.0\n 3      RNA    U  0.239006     7.1  109.0620     0.0\n 4      RNA    G  0.239006     4.9  150.1214     0.0\n 5      RNA    C  0.239006     6.4  110.0964     0.0\n 6      DNA    P  0.239006     4.5   94.9696    -0.6\n 7      DNA    S  0.239006     6.2   83.1104     0.0\n 8      DNA    A  0.239006     5.4  134.1220     0.0\n 9      DNA    T  0.239006     7.1  125.1078     0.0\n 10     DNA    G  0.239006     4.9  150.1214     0.0\n 11     DNA    C  0.239006     6.4  110.0964     0.0,\n 'Bonds':   nucleic  i  j  s1     r0       Kb2  Kb3        Kb4\n 0     RNA  P  S   0  4.157  0.143403    0  14.340344\n 1     RNA  S  P   1  3.780  0.143403    0  14.340344\n 2     RNA  S  A   0  4.697  0.143403    0  14.340344\n 3     RNA  S  U   0  4.220  0.143403    0  14.340344\n 4     RNA  S  G   0  4.852  0.143403    0  14.340344\n 5     RNA  S  C   0  4.066  0.143403    0  14.340344}"
     },
     "metadata": {},
     "execution_count": 106
    }
   ],
   "source": [
    "a.config"
   ]
  },
  {
   "cell_type": "code",
   "execution_count": 107,
   "metadata": {},
   "outputs": [],
   "source": [
    "def parsePDB(pdb_file):\n",
    "    \"\"\" Transforms the pdb file into a pandas table for easy access and data editing\"\"\"\n",
    "\n",
    "    def pdb_line(line):\n",
    "        return dict(recname=str(line[0:6]).strip(),  # record name\n",
    "                    serial=int(line[6:11]),          # atom serial number\n",
    "                    name=str(line[12:16]).strip(),   # atom name\n",
    "                    altLoc=str(line[16:17]),         # alternate location indicator\n",
    "                    resname=str(line[17:20]).strip(),\n",
    "                    chainID=str(line[21:22]),\n",
    "                    resSeq=int(line[22:26]),         # residue sequence number\n",
    "                    iCode=str(line[26:27]),          # code for insertion of residues\n",
    "                    x=float(line[30:38]),\n",
    "                    y=float(line[38:46]),\n",
    "                    z=float(line[46:54]),\n",
    "                    occupancy=0.0 if line[54:60].strip() == '' else float(line[54:60]),\n",
    "                    tempFactor=0.0 if line[60:66].strip() == '' else float(line[60:66]),\n",
    "                    element=str(line[76:78]),        # element symbol, right-justified\n",
    "                    charge=str(line[78:80]))         # charge on the atom, right-justified\n",
    "\n",
    "    with open(pdb_file, 'r') as pdb:\n",
    "        lines = []\n",
    "        for line in pdb:\n",
    "            if len(line) > 6 and line[:6] in ['ATOM  ', 'HETATM']:\n",
    "                lines += [pdb_line(line)]\n",
    "    pdb_atoms = pandas.DataFrame(lines)\n",
    "    pdb_atoms = pdb_atoms[['recname', 'serial', 'name', 'altLoc',\n",
    "                           'resname', 'chainID', 'resSeq', 'iCode',\n",
    "                           'x', 'y', 'z', 'occupancy', 'tempFactor',\n",
    "                           'element', 'charge']]\n",
    "    return pdb_atoms"
   ]
  },
  {
   "cell_type": "code",
   "execution_count": 108,
   "metadata": {},
   "outputs": [],
   "source": [
    "b = parsePDB('fiber-ssRNA.pdb')"
   ]
  },
  {
   "cell_type": "code",
   "execution_count": 109,
   "metadata": {
    "tags": []
   },
   "outputs": [
    {
     "output_type": "stream",
     "name": "stdout",
     "text": "recname  serial name altLoc resname chainID  resSeq iCode      x      y  \\\n0      ATOM       1    P              A       A       1        3.063  8.025   \n1      ATOM       2  OP1              A       A       1        3.223  8.856   \n2      ATOM       3  OP2              A       A       1        1.891  7.121   \n3      ATOM       4  O5'              A       A       1        4.396  7.181   \n4      ATOM       5  C5'              A       A       1        5.621  7.881   \n..      ...     ...  ...    ...     ...     ...     ...   ...    ...    ...   \n227    ATOM     228   N3              C       A      11        2.848  4.363   \n228    ATOM     229   C4              C       A      11        1.578  4.062   \n229    ATOM     230   N4              C       A      11        1.152  2.830   \n230    ATOM     231   C5              C       A      11        0.692  5.036   \n231    ATOM     232   C6              C       A      11        1.197  6.278   \n\n          z  occupancy  tempFactor element charge  \n0    -4.135        1.0         1.0       P         \n1    -5.350        1.0         1.0       O         \n2    -4.118        1.0         1.0       O         \n3    -3.881        1.0         1.0       O         \n4    -3.587        1.0         1.0       C         \n..      ...        ...         ...     ...    ...  \n227 -26.363        1.0         1.0       N         \n228 -26.668        1.0         1.0       C         \n229 -26.436        1.0         1.0       N         \n230 -27.231        1.0         1.0       C         \n231 -27.441        1.0         1.0       C         \n\n[232 rows x 15 columns]\n"
    }
   ],
   "source": [
    "print(b)"
   ]
  },
  {
   "cell_type": "code",
   "execution_count": 110,
   "metadata": {},
   "outputs": [
    {
     "output_type": "execute_result",
     "data": {
      "text/plain": "Index(['recname', 'serial', 'name', 'altLoc', 'resname', 'chainID', 'resSeq',\n       'iCode', 'x', 'y', 'z', 'occupancy', 'tempFactor', 'element', 'charge'],\n      dtype='object')"
     },
     "metadata": {},
     "execution_count": 110
    }
   ],
   "source": [
    "b.columns"
   ]
  },
  {
   "cell_type": "code",
   "execution_count": 111,
   "metadata": {},
   "outputs": [
    {
     "output_type": "execute_result",
     "data": {
      "text/plain": "     recname  serial altLoc resname chainID  resSeq iCode      x      y  \\\nname                                                                      \nP       ATOM       1              A       A       1        3.063  8.025   \nOP1     ATOM       2              A       A       1        3.223  8.856   \nOP2     ATOM       3              A       A       1        1.891  7.121   \nO5'     ATOM       4              A       A       1        4.396  7.181   \nC5'     ATOM       5              A       A       1        5.621  7.881   \n...      ...     ...    ...     ...     ...     ...   ...    ...    ...   \nN3      ATOM     228              C       A      11        2.848  4.363   \nC4      ATOM     229              C       A      11        1.578  4.062   \nN4      ATOM     230              C       A      11        1.152  2.830   \nC5      ATOM     231              C       A      11        0.692  5.036   \nC6      ATOM     232              C       A      11        1.197  6.278   \n\n           z  occupancy  tempFactor element charge  \nname                                                \nP     -4.135        1.0         1.0       P         \nOP1   -5.350        1.0         1.0       O         \nOP2   -4.118        1.0         1.0       O         \nO5'   -3.881        1.0         1.0       O         \nC5'   -3.587        1.0         1.0       C         \n...      ...        ...         ...     ...    ...  \nN3   -26.363        1.0         1.0       N         \nC4   -26.668        1.0         1.0       C         \nN4   -26.436        1.0         1.0       N         \nC5   -27.231        1.0         1.0       C         \nC6   -27.441        1.0         1.0       C         \n\n[232 rows x 14 columns]",
      "text/html": "<div>\n<style scoped>\n    .dataframe tbody tr th:only-of-type {\n        vertical-align: middle;\n    }\n\n    .dataframe tbody tr th {\n        vertical-align: top;\n    }\n\n    .dataframe thead th {\n        text-align: right;\n    }\n</style>\n<table border=\"1\" class=\"dataframe\">\n  <thead>\n    <tr style=\"text-align: right;\">\n      <th></th>\n      <th>recname</th>\n      <th>serial</th>\n      <th>altLoc</th>\n      <th>resname</th>\n      <th>chainID</th>\n      <th>resSeq</th>\n      <th>iCode</th>\n      <th>x</th>\n      <th>y</th>\n      <th>z</th>\n      <th>occupancy</th>\n      <th>tempFactor</th>\n      <th>element</th>\n      <th>charge</th>\n    </tr>\n    <tr>\n      <th>name</th>\n      <th></th>\n      <th></th>\n      <th></th>\n      <th></th>\n      <th></th>\n      <th></th>\n      <th></th>\n      <th></th>\n      <th></th>\n      <th></th>\n      <th></th>\n      <th></th>\n      <th></th>\n      <th></th>\n    </tr>\n  </thead>\n  <tbody>\n    <tr>\n      <th>P</th>\n      <td>ATOM</td>\n      <td>1</td>\n      <td></td>\n      <td>A</td>\n      <td>A</td>\n      <td>1</td>\n      <td></td>\n      <td>3.063</td>\n      <td>8.025</td>\n      <td>-4.135</td>\n      <td>1.0</td>\n      <td>1.0</td>\n      <td>P</td>\n      <td></td>\n    </tr>\n    <tr>\n      <th>OP1</th>\n      <td>ATOM</td>\n      <td>2</td>\n      <td></td>\n      <td>A</td>\n      <td>A</td>\n      <td>1</td>\n      <td></td>\n      <td>3.223</td>\n      <td>8.856</td>\n      <td>-5.350</td>\n      <td>1.0</td>\n      <td>1.0</td>\n      <td>O</td>\n      <td></td>\n    </tr>\n    <tr>\n      <th>OP2</th>\n      <td>ATOM</td>\n      <td>3</td>\n      <td></td>\n      <td>A</td>\n      <td>A</td>\n      <td>1</td>\n      <td></td>\n      <td>1.891</td>\n      <td>7.121</td>\n      <td>-4.118</td>\n      <td>1.0</td>\n      <td>1.0</td>\n      <td>O</td>\n      <td></td>\n    </tr>\n    <tr>\n      <th>O5'</th>\n      <td>ATOM</td>\n      <td>4</td>\n      <td></td>\n      <td>A</td>\n      <td>A</td>\n      <td>1</td>\n      <td></td>\n      <td>4.396</td>\n      <td>7.181</td>\n      <td>-3.881</td>\n      <td>1.0</td>\n      <td>1.0</td>\n      <td>O</td>\n      <td></td>\n    </tr>\n    <tr>\n      <th>C5'</th>\n      <td>ATOM</td>\n      <td>5</td>\n      <td></td>\n      <td>A</td>\n      <td>A</td>\n      <td>1</td>\n      <td></td>\n      <td>5.621</td>\n      <td>7.881</td>\n      <td>-3.587</td>\n      <td>1.0</td>\n      <td>1.0</td>\n      <td>C</td>\n      <td></td>\n    </tr>\n    <tr>\n      <th>...</th>\n      <td>...</td>\n      <td>...</td>\n      <td>...</td>\n      <td>...</td>\n      <td>...</td>\n      <td>...</td>\n      <td>...</td>\n      <td>...</td>\n      <td>...</td>\n      <td>...</td>\n      <td>...</td>\n      <td>...</td>\n      <td>...</td>\n      <td>...</td>\n    </tr>\n    <tr>\n      <th>N3</th>\n      <td>ATOM</td>\n      <td>228</td>\n      <td></td>\n      <td>C</td>\n      <td>A</td>\n      <td>11</td>\n      <td></td>\n      <td>2.848</td>\n      <td>4.363</td>\n      <td>-26.363</td>\n      <td>1.0</td>\n      <td>1.0</td>\n      <td>N</td>\n      <td></td>\n    </tr>\n    <tr>\n      <th>C4</th>\n      <td>ATOM</td>\n      <td>229</td>\n      <td></td>\n      <td>C</td>\n      <td>A</td>\n      <td>11</td>\n      <td></td>\n      <td>1.578</td>\n      <td>4.062</td>\n      <td>-26.668</td>\n      <td>1.0</td>\n      <td>1.0</td>\n      <td>C</td>\n      <td></td>\n    </tr>\n    <tr>\n      <th>N4</th>\n      <td>ATOM</td>\n      <td>230</td>\n      <td></td>\n      <td>C</td>\n      <td>A</td>\n      <td>11</td>\n      <td></td>\n      <td>1.152</td>\n      <td>2.830</td>\n      <td>-26.436</td>\n      <td>1.0</td>\n      <td>1.0</td>\n      <td>N</td>\n      <td></td>\n    </tr>\n    <tr>\n      <th>C5</th>\n      <td>ATOM</td>\n      <td>231</td>\n      <td></td>\n      <td>C</td>\n      <td>A</td>\n      <td>11</td>\n      <td></td>\n      <td>0.692</td>\n      <td>5.036</td>\n      <td>-27.231</td>\n      <td>1.0</td>\n      <td>1.0</td>\n      <td>C</td>\n      <td></td>\n    </tr>\n    <tr>\n      <th>C6</th>\n      <td>ATOM</td>\n      <td>232</td>\n      <td></td>\n      <td>C</td>\n      <td>A</td>\n      <td>11</td>\n      <td></td>\n      <td>1.197</td>\n      <td>6.278</td>\n      <td>-27.441</td>\n      <td>1.0</td>\n      <td>1.0</td>\n      <td>C</td>\n      <td></td>\n    </tr>\n  </tbody>\n</table>\n<p>232 rows × 14 columns</p>\n</div>"
     },
     "metadata": {},
     "execution_count": 111
    }
   ],
   "source": [
    "b.set_index('name')"
   ]
  },
  {
   "cell_type": "code",
   "execution_count": 112,
   "metadata": {},
   "outputs": [
    {
     "output_type": "execute_result",
     "data": {
      "text/plain": "array(['P', 'OP1', 'OP2', \"O5'\", \"C5'\", \"C4'\", \"O4'\", \"C3'\", \"O3'\", \"C2'\",\n       \"O2'\", \"C1'\", 'N9', 'C8', 'N7', 'C5', 'C6', 'N6', 'N1', 'C2', 'N3',\n       'C4', 'O6', 'N2', 'O2', 'O4', 'N4'], dtype=object)"
     },
     "metadata": {},
     "execution_count": 112
    }
   ],
   "source": [
    "b['name'].unique()"
   ]
  },
  {
   "cell_type": "code",
   "execution_count": 113,
   "metadata": {},
   "outputs": [],
   "source": [
    "def CoarseGrain(pdb_table):\n",
    "    \"\"\" Selects RNA atoms from a pdb table and returns a table containing only the coarse-grained atoms for 3SPN2\"\"\"\n",
    "    masses = {\"H\": 1.00794, \"C\": 12.0107, \"N\": 14.0067, \"O\": 15.9994, \"P\": 30.973762, }\n",
    "    CG = {\"O5\\'\": 'P', \"C5\\'\": 'S', \"C4\\'\": 'S', \"O4\\'\": 'S', \"C3\\'\": 'S', \"O3\\'\": 'P', \"O2\\'\": 'S',\n",
    "          \"C2\\'\": 'S', \"C1\\'\": 'S', \"O5*\": 'P', \"C5*\": 'S', \"C4*\": 'S', \"O4*\": 'S',\n",
    "          \"C3*\": 'S', \"O3*\": 'P', \"C2*\": 'S', \"C1*\": 'S', \"N1\": 'B', \"C2\": 'B', \"O2\": 'B',\n",
    "          \"N2\": 'B', \"N3\": 'B', \"C4\": 'B', \"N4\": 'B', \"C5\": 'B', \"C6\": 'B', \"N9\": 'B',\n",
    "          \"C8\": 'B', \"O6\": 'B', \"N7\": 'B', \"N6\": 'B', \"O4\": 'B', \"C7\": 'B', \"P\": 'P',\n",
    "          \"OP1\": 'P', \"OP2\": 'P', \"O1P\": 'P', \"O2P\": 'P', \"OP3\": 'P', \"HO5'\": 'P',\n",
    "          \"H5'\": 'S', \"H5''\": 'S', \"H4'\": 'S', \"H3'\": 'S', \"H2'\": 'S', \"H2''\": 'S',\n",
    "          \"H1'\": 'S', \"H8\": 'B', \"H61\": 'B', \"H62\": 'B', 'H2': 'B', 'H1': 'B', 'H21': 'B',\n",
    "          'H22': 'B', 'H3': 'B', 'H71': 'B', 'H72': 'B', 'H73': 'B', 'H6': 'B', 'H41': 'B',\n",
    "          'H42': 'B', 'H5': 'B', \"HO3'\": 'P'}\n",
    "    cols = ['recname', 'serial', 'name', 'altLoc',\n",
    "            'resname', 'chainID', 'resSeq', 'iCode',\n",
    "            'x', 'y', 'z', 'occupancy', 'tempFactor',\n",
    "            'element', 'charge', 'type']\n",
    "    temp = pdb_table.copy()\n",
    "\n",
    "    # Select RNA residues\n",
    "    temp = temp[temp['resname'].isin(['A', 'U', 'G', 'C'])]\n",
    "\n",
    "    # Group the atoms by sugar, phosphate or base\n",
    "    temp['group'] = temp['name'].replace(CG) # https://pandas.pydata.org/pandas-docs/stable/reference/api/pandas.DataFrame.replace.html\n",
    "    temp = temp[temp['group'].isin(['P', 'S', 'B'])] # select based on whether the value is in one column\n",
    "\n",
    "    # Move the O3' to the next residue\n",
    "    for c in temp['chainID'].unique():\n",
    "        sel = temp.loc[(temp['name'] == \"O3\\'\") & (temp['chainID'] == c), \"resSeq\"]\n",
    "        temp.loc[(temp['name'] == \"O3\\'\") & (temp['chainID'] == c), \"resSeq\"] = list(sel)[1:] + [-1]\n",
    "        sel = temp.loc[(temp['name'] == \"O3\\'\") & (temp['chainID'] == c), \"resname\"]\n",
    "        temp.loc[(temp['name'] == \"O3\\'\") & (temp['chainID'] == c), \"resname\"] = list(sel)[1:] + [\"remove\"]\n",
    "    # temp = temp[temp['resSeq'] > 0]\n",
    "    temp = temp[temp['resname'] != 'remove']\n",
    "\n",
    "    # Calculate center of mass\n",
    "    temp['element'] = temp['element'].str.strip()\n",
    "    temp['mass'] = temp.element.replace(masses).astype(float)\n",
    "    temp[['x', 'y', 'z']] = (temp[['x', 'y', 'z']].T * temp['mass']).T[['x', 'y', 'z']]\n",
    "    temp = temp[temp['element'] != 'H']  # Exclude hydrogens\n",
    "    Coarse = temp.groupby(['chainID', 'resSeq', 'resname', 'group']).sum().reset_index()\n",
    "    Coarse[['x', 'y', 'z']] = (Coarse[['x', 'y', 'z']].T / Coarse['mass']).T[['x', 'y', 'z']]\n",
    "\n",
    "    # Set pdb columns\n",
    "    Coarse['recname'] = 'ATOM'\n",
    "    Coarse['name'] = Coarse['group']\n",
    "    Coarse['altLoc'] = ''\n",
    "    Coarse['iCode'] = ''\n",
    "    Coarse['charge'] = ''\n",
    "    # Change name of base to real base\n",
    "    mask = (Coarse.name == 'B')\n",
    "    Coarse.loc[mask, 'name'] = Coarse[mask].resname.str[-1]  # takes last letter from the residue name\n",
    "    Coarse['type'] = Coarse['name']\n",
    "    # Set element (depends on base)\n",
    "    Coarse['element'] = Coarse['name'].replace({'P': 'P', 'S': 'H', 'A': 'N', 'T': 'S', 'G': 'C', 'C': 'O'})\n",
    "    # Remove P from the beggining\n",
    "    drop_list = []\n",
    "    for chain in Coarse.chainID.unique():\n",
    "        sel = Coarse[Coarse.chainID == chain]\n",
    "        drop_list += list(sel[(sel.resSeq == sel.resSeq.min()) & sel['name'].isin(['P'])].index)\n",
    "    Coarse = Coarse.drop(drop_list)\n",
    "    # Renumber\n",
    "    Coarse.index = range(len(Coarse))\n",
    "    Coarse['serial'] = Coarse.index\n",
    "    return Coarse[cols]"
   ]
  },
  {
   "cell_type": "code",
   "execution_count": 114,
   "metadata": {},
   "outputs": [],
   "source": [
    "coarse = CoarseGrain(b)"
   ]
  },
  {
   "cell_type": "code",
   "execution_count": 115,
   "metadata": {},
   "outputs": [],
   "source": [
    "masses = {\"H\": 1.00794, \"C\": 12.0107, \"N\": 14.0067, \"O\": 15.9994, \"P\": 30.973762, }\n",
    "CG = {\"O5\\'\": 'P', \"C5\\'\": 'S', \"C4\\'\": 'S', \"O4\\'\": 'S', \"C3\\'\": 'S', \"O3\\'\": 'P', \"O2\\'\": 'S',\n",
    "      \"C2\\'\": 'S', \"C1\\'\": 'S', \"O5*\": 'P', \"C5*\": 'S', \"C4*\": 'S', \"O4*\": 'S',\n",
    "      \"C3*\": 'S', \"O3*\": 'P', \"C2*\": 'S', \"C1*\": 'S', \"N1\": 'B', \"C2\": 'B', \"O2\": 'B',\n",
    "      \"N2\": 'B', \"N3\": 'B', \"C4\": 'B', \"N4\": 'B', \"C5\": 'B', \"C6\": 'B', \"N9\": 'B',\n",
    "      \"C8\": 'B', \"O6\": 'B', \"N7\": 'B', \"N6\": 'B', \"O4\": 'B', \"C7\": 'B', \"P\": 'P',\n",
    "      \"OP1\": 'P', \"OP2\": 'P', \"O1P\": 'P', \"O2P\": 'P', \"OP3\": 'P', \"HO5'\": 'P',\n",
    "      \"H5'\": 'S', \"H5''\": 'S', \"H4'\": 'S', \"H3'\": 'S', \"H2'\": 'S', \"H2''\": 'S',\n",
    "      \"H1'\": 'S', \"H8\": 'B', \"H61\": 'B', \"H62\": 'B', 'H2': 'B', 'H1': 'B', 'H21': 'B',\n",
    "      'H22': 'B', 'H3': 'B', 'H71': 'B', 'H72': 'B', 'H73': 'B', 'H6': 'B', 'H41': 'B',\n",
    "      'H42': 'B', 'H5': 'B', \"HO3'\": 'P'}\n",
    "cols = ['recname', 'serial', 'name', 'altLoc',\n",
    "        'resname', 'chainID', 'resSeq', 'iCode',\n",
    "        'x', 'y', 'z', 'occupancy', 'tempFactor',\n",
    "        'element', 'charge', 'type']"
   ]
  },
  {
   "cell_type": "code",
   "execution_count": 116,
   "metadata": {},
   "outputs": [],
   "source": [
    "temp = b.copy()"
   ]
  },
  {
   "cell_type": "code",
   "execution_count": 117,
   "metadata": {},
   "outputs": [
    {
     "output_type": "execute_result",
     "data": {
      "text/plain": "    recname  serial name altLoc resname chainID  resSeq iCode      x      y  \\\n0      ATOM       1    P              A       A       1        3.063  8.025   \n1      ATOM       2  OP1              A       A       1        3.223  8.856   \n2      ATOM       3  OP2              A       A       1        1.891  7.121   \n3      ATOM       4  O5'              A       A       1        4.396  7.181   \n4      ATOM       5  C5'              A       A       1        5.621  7.881   \n..      ...     ...  ...    ...     ...     ...     ...   ...    ...    ...   \n227    ATOM     228   N3              C       A      11        2.848  4.363   \n228    ATOM     229   C4              C       A      11        1.578  4.062   \n229    ATOM     230   N4              C       A      11        1.152  2.830   \n230    ATOM     231   C5              C       A      11        0.692  5.036   \n231    ATOM     232   C6              C       A      11        1.197  6.278   \n\n          z  occupancy  tempFactor element charge  \n0    -4.135        1.0         1.0       P         \n1    -5.350        1.0         1.0       O         \n2    -4.118        1.0         1.0       O         \n3    -3.881        1.0         1.0       O         \n4    -3.587        1.0         1.0       C         \n..      ...        ...         ...     ...    ...  \n227 -26.363        1.0         1.0       N         \n228 -26.668        1.0         1.0       C         \n229 -26.436        1.0         1.0       N         \n230 -27.231        1.0         1.0       C         \n231 -27.441        1.0         1.0       C         \n\n[232 rows x 15 columns]",
      "text/html": "<div>\n<style scoped>\n    .dataframe tbody tr th:only-of-type {\n        vertical-align: middle;\n    }\n\n    .dataframe tbody tr th {\n        vertical-align: top;\n    }\n\n    .dataframe thead th {\n        text-align: right;\n    }\n</style>\n<table border=\"1\" class=\"dataframe\">\n  <thead>\n    <tr style=\"text-align: right;\">\n      <th></th>\n      <th>recname</th>\n      <th>serial</th>\n      <th>name</th>\n      <th>altLoc</th>\n      <th>resname</th>\n      <th>chainID</th>\n      <th>resSeq</th>\n      <th>iCode</th>\n      <th>x</th>\n      <th>y</th>\n      <th>z</th>\n      <th>occupancy</th>\n      <th>tempFactor</th>\n      <th>element</th>\n      <th>charge</th>\n    </tr>\n  </thead>\n  <tbody>\n    <tr>\n      <th>0</th>\n      <td>ATOM</td>\n      <td>1</td>\n      <td>P</td>\n      <td></td>\n      <td>A</td>\n      <td>A</td>\n      <td>1</td>\n      <td></td>\n      <td>3.063</td>\n      <td>8.025</td>\n      <td>-4.135</td>\n      <td>1.0</td>\n      <td>1.0</td>\n      <td>P</td>\n      <td></td>\n    </tr>\n    <tr>\n      <th>1</th>\n      <td>ATOM</td>\n      <td>2</td>\n      <td>OP1</td>\n      <td></td>\n      <td>A</td>\n      <td>A</td>\n      <td>1</td>\n      <td></td>\n      <td>3.223</td>\n      <td>8.856</td>\n      <td>-5.350</td>\n      <td>1.0</td>\n      <td>1.0</td>\n      <td>O</td>\n      <td></td>\n    </tr>\n    <tr>\n      <th>2</th>\n      <td>ATOM</td>\n      <td>3</td>\n      <td>OP2</td>\n      <td></td>\n      <td>A</td>\n      <td>A</td>\n      <td>1</td>\n      <td></td>\n      <td>1.891</td>\n      <td>7.121</td>\n      <td>-4.118</td>\n      <td>1.0</td>\n      <td>1.0</td>\n      <td>O</td>\n      <td></td>\n    </tr>\n    <tr>\n      <th>3</th>\n      <td>ATOM</td>\n      <td>4</td>\n      <td>O5'</td>\n      <td></td>\n      <td>A</td>\n      <td>A</td>\n      <td>1</td>\n      <td></td>\n      <td>4.396</td>\n      <td>7.181</td>\n      <td>-3.881</td>\n      <td>1.0</td>\n      <td>1.0</td>\n      <td>O</td>\n      <td></td>\n    </tr>\n    <tr>\n      <th>4</th>\n      <td>ATOM</td>\n      <td>5</td>\n      <td>C5'</td>\n      <td></td>\n      <td>A</td>\n      <td>A</td>\n      <td>1</td>\n      <td></td>\n      <td>5.621</td>\n      <td>7.881</td>\n      <td>-3.587</td>\n      <td>1.0</td>\n      <td>1.0</td>\n      <td>C</td>\n      <td></td>\n    </tr>\n    <tr>\n      <th>...</th>\n      <td>...</td>\n      <td>...</td>\n      <td>...</td>\n      <td>...</td>\n      <td>...</td>\n      <td>...</td>\n      <td>...</td>\n      <td>...</td>\n      <td>...</td>\n      <td>...</td>\n      <td>...</td>\n      <td>...</td>\n      <td>...</td>\n      <td>...</td>\n      <td>...</td>\n    </tr>\n    <tr>\n      <th>227</th>\n      <td>ATOM</td>\n      <td>228</td>\n      <td>N3</td>\n      <td></td>\n      <td>C</td>\n      <td>A</td>\n      <td>11</td>\n      <td></td>\n      <td>2.848</td>\n      <td>4.363</td>\n      <td>-26.363</td>\n      <td>1.0</td>\n      <td>1.0</td>\n      <td>N</td>\n      <td></td>\n    </tr>\n    <tr>\n      <th>228</th>\n      <td>ATOM</td>\n      <td>229</td>\n      <td>C4</td>\n      <td></td>\n      <td>C</td>\n      <td>A</td>\n      <td>11</td>\n      <td></td>\n      <td>1.578</td>\n      <td>4.062</td>\n      <td>-26.668</td>\n      <td>1.0</td>\n      <td>1.0</td>\n      <td>C</td>\n      <td></td>\n    </tr>\n    <tr>\n      <th>229</th>\n      <td>ATOM</td>\n      <td>230</td>\n      <td>N4</td>\n      <td></td>\n      <td>C</td>\n      <td>A</td>\n      <td>11</td>\n      <td></td>\n      <td>1.152</td>\n      <td>2.830</td>\n      <td>-26.436</td>\n      <td>1.0</td>\n      <td>1.0</td>\n      <td>N</td>\n      <td></td>\n    </tr>\n    <tr>\n      <th>230</th>\n      <td>ATOM</td>\n      <td>231</td>\n      <td>C5</td>\n      <td></td>\n      <td>C</td>\n      <td>A</td>\n      <td>11</td>\n      <td></td>\n      <td>0.692</td>\n      <td>5.036</td>\n      <td>-27.231</td>\n      <td>1.0</td>\n      <td>1.0</td>\n      <td>C</td>\n      <td></td>\n    </tr>\n    <tr>\n      <th>231</th>\n      <td>ATOM</td>\n      <td>232</td>\n      <td>C6</td>\n      <td></td>\n      <td>C</td>\n      <td>A</td>\n      <td>11</td>\n      <td></td>\n      <td>1.197</td>\n      <td>6.278</td>\n      <td>-27.441</td>\n      <td>1.0</td>\n      <td>1.0</td>\n      <td>C</td>\n      <td></td>\n    </tr>\n  </tbody>\n</table>\n<p>232 rows × 15 columns</p>\n</div>"
     },
     "metadata": {},
     "execution_count": 117
    }
   ],
   "source": [
    "temp[temp['resname'].isin(['A', 'U', 'G', 'C'])]"
   ]
  },
  {
   "cell_type": "code",
   "execution_count": 118,
   "metadata": {},
   "outputs": [],
   "source": [
    "temp['group'] = temp['name'].replace(CG)"
   ]
  },
  {
   "cell_type": "code",
   "execution_count": 119,
   "metadata": {},
   "outputs": [
    {
     "output_type": "execute_result",
     "data": {
      "text/plain": "    recname  serial name altLoc resname chainID  resSeq iCode      x      y  \\\n0      ATOM       1    P              A       A       1        3.063  8.025   \n1      ATOM       2  OP1              A       A       1        3.223  8.856   \n2      ATOM       3  OP2              A       A       1        1.891  7.121   \n3      ATOM       4  O5'              A       A       1        4.396  7.181   \n4      ATOM       5  C5'              A       A       1        5.621  7.881   \n..      ...     ...  ...    ...     ...     ...     ...   ...    ...    ...   \n227    ATOM     228   N3              C       A      11        2.848  4.363   \n228    ATOM     229   C4              C       A      11        1.578  4.062   \n229    ATOM     230   N4              C       A      11        1.152  2.830   \n230    ATOM     231   C5              C       A      11        0.692  5.036   \n231    ATOM     232   C6              C       A      11        1.197  6.278   \n\n          z  occupancy  tempFactor element charge group  \n0    -4.135        1.0         1.0       P            P  \n1    -5.350        1.0         1.0       O            P  \n2    -4.118        1.0         1.0       O            P  \n3    -3.881        1.0         1.0       O            P  \n4    -3.587        1.0         1.0       C            S  \n..      ...        ...         ...     ...    ...   ...  \n227 -26.363        1.0         1.0       N            B  \n228 -26.668        1.0         1.0       C            B  \n229 -26.436        1.0         1.0       N            B  \n230 -27.231        1.0         1.0       C            B  \n231 -27.441        1.0         1.0       C            B  \n\n[232 rows x 16 columns]",
      "text/html": "<div>\n<style scoped>\n    .dataframe tbody tr th:only-of-type {\n        vertical-align: middle;\n    }\n\n    .dataframe tbody tr th {\n        vertical-align: top;\n    }\n\n    .dataframe thead th {\n        text-align: right;\n    }\n</style>\n<table border=\"1\" class=\"dataframe\">\n  <thead>\n    <tr style=\"text-align: right;\">\n      <th></th>\n      <th>recname</th>\n      <th>serial</th>\n      <th>name</th>\n      <th>altLoc</th>\n      <th>resname</th>\n      <th>chainID</th>\n      <th>resSeq</th>\n      <th>iCode</th>\n      <th>x</th>\n      <th>y</th>\n      <th>z</th>\n      <th>occupancy</th>\n      <th>tempFactor</th>\n      <th>element</th>\n      <th>charge</th>\n      <th>group</th>\n    </tr>\n  </thead>\n  <tbody>\n    <tr>\n      <th>0</th>\n      <td>ATOM</td>\n      <td>1</td>\n      <td>P</td>\n      <td></td>\n      <td>A</td>\n      <td>A</td>\n      <td>1</td>\n      <td></td>\n      <td>3.063</td>\n      <td>8.025</td>\n      <td>-4.135</td>\n      <td>1.0</td>\n      <td>1.0</td>\n      <td>P</td>\n      <td></td>\n      <td>P</td>\n    </tr>\n    <tr>\n      <th>1</th>\n      <td>ATOM</td>\n      <td>2</td>\n      <td>OP1</td>\n      <td></td>\n      <td>A</td>\n      <td>A</td>\n      <td>1</td>\n      <td></td>\n      <td>3.223</td>\n      <td>8.856</td>\n      <td>-5.350</td>\n      <td>1.0</td>\n      <td>1.0</td>\n      <td>O</td>\n      <td></td>\n      <td>P</td>\n    </tr>\n    <tr>\n      <th>2</th>\n      <td>ATOM</td>\n      <td>3</td>\n      <td>OP2</td>\n      <td></td>\n      <td>A</td>\n      <td>A</td>\n      <td>1</td>\n      <td></td>\n      <td>1.891</td>\n      <td>7.121</td>\n      <td>-4.118</td>\n      <td>1.0</td>\n      <td>1.0</td>\n      <td>O</td>\n      <td></td>\n      <td>P</td>\n    </tr>\n    <tr>\n      <th>3</th>\n      <td>ATOM</td>\n      <td>4</td>\n      <td>O5'</td>\n      <td></td>\n      <td>A</td>\n      <td>A</td>\n      <td>1</td>\n      <td></td>\n      <td>4.396</td>\n      <td>7.181</td>\n      <td>-3.881</td>\n      <td>1.0</td>\n      <td>1.0</td>\n      <td>O</td>\n      <td></td>\n      <td>P</td>\n    </tr>\n    <tr>\n      <th>4</th>\n      <td>ATOM</td>\n      <td>5</td>\n      <td>C5'</td>\n      <td></td>\n      <td>A</td>\n      <td>A</td>\n      <td>1</td>\n      <td></td>\n      <td>5.621</td>\n      <td>7.881</td>\n      <td>-3.587</td>\n      <td>1.0</td>\n      <td>1.0</td>\n      <td>C</td>\n      <td></td>\n      <td>S</td>\n    </tr>\n    <tr>\n      <th>...</th>\n      <td>...</td>\n      <td>...</td>\n      <td>...</td>\n      <td>...</td>\n      <td>...</td>\n      <td>...</td>\n      <td>...</td>\n      <td>...</td>\n      <td>...</td>\n      <td>...</td>\n      <td>...</td>\n      <td>...</td>\n      <td>...</td>\n      <td>...</td>\n      <td>...</td>\n      <td>...</td>\n    </tr>\n    <tr>\n      <th>227</th>\n      <td>ATOM</td>\n      <td>228</td>\n      <td>N3</td>\n      <td></td>\n      <td>C</td>\n      <td>A</td>\n      <td>11</td>\n      <td></td>\n      <td>2.848</td>\n      <td>4.363</td>\n      <td>-26.363</td>\n      <td>1.0</td>\n      <td>1.0</td>\n      <td>N</td>\n      <td></td>\n      <td>B</td>\n    </tr>\n    <tr>\n      <th>228</th>\n      <td>ATOM</td>\n      <td>229</td>\n      <td>C4</td>\n      <td></td>\n      <td>C</td>\n      <td>A</td>\n      <td>11</td>\n      <td></td>\n      <td>1.578</td>\n      <td>4.062</td>\n      <td>-26.668</td>\n      <td>1.0</td>\n      <td>1.0</td>\n      <td>C</td>\n      <td></td>\n      <td>B</td>\n    </tr>\n    <tr>\n      <th>229</th>\n      <td>ATOM</td>\n      <td>230</td>\n      <td>N4</td>\n      <td></td>\n      <td>C</td>\n      <td>A</td>\n      <td>11</td>\n      <td></td>\n      <td>1.152</td>\n      <td>2.830</td>\n      <td>-26.436</td>\n      <td>1.0</td>\n      <td>1.0</td>\n      <td>N</td>\n      <td></td>\n      <td>B</td>\n    </tr>\n    <tr>\n      <th>230</th>\n      <td>ATOM</td>\n      <td>231</td>\n      <td>C5</td>\n      <td></td>\n      <td>C</td>\n      <td>A</td>\n      <td>11</td>\n      <td></td>\n      <td>0.692</td>\n      <td>5.036</td>\n      <td>-27.231</td>\n      <td>1.0</td>\n      <td>1.0</td>\n      <td>C</td>\n      <td></td>\n      <td>B</td>\n    </tr>\n    <tr>\n      <th>231</th>\n      <td>ATOM</td>\n      <td>232</td>\n      <td>C6</td>\n      <td></td>\n      <td>C</td>\n      <td>A</td>\n      <td>11</td>\n      <td></td>\n      <td>1.197</td>\n      <td>6.278</td>\n      <td>-27.441</td>\n      <td>1.0</td>\n      <td>1.0</td>\n      <td>C</td>\n      <td></td>\n      <td>B</td>\n    </tr>\n  </tbody>\n</table>\n<p>232 rows × 16 columns</p>\n</div>"
     },
     "metadata": {},
     "execution_count": 119
    }
   ],
   "source": [
    "temp"
   ]
  },
  {
   "cell_type": "code",
   "execution_count": 120,
   "metadata": {
    "tags": []
   },
   "outputs": [
    {
     "output_type": "stream",
     "name": "stdout",
     "text": "8       1\n30      2\n52      3\n74      4\n97      5\n120     6\n140     7\n160     8\n180     9\n200    10\n220    11\nName: resSeq, dtype: int64\n    recname  serial name altLoc resname chainID  resSeq iCode      x      y  \\\n8      ATOM       9  O3'              A       A       2        7.397  5.908   \n30     ATOM      31  O3'              A       A       3        9.417  0.975   \n52     ATOM      53  O3'              A       A       4        8.451 -4.266   \n74     ATOM      75  O3'              G       A       5        4.807 -8.157   \n97     ATOM      98  O3'              G       A       6       -0.362 -9.461   \n120    ATOM     121  O3'              U       A       7       -5.415 -7.766   \n140    ATOM     141  O3'              U       A       8       -8.752 -3.610   \n160    ATOM     161  O3'              U       A       9       -9.315  1.690   \n180    ATOM     181  O3'              C       A      10       -6.926  6.456   \n200    ATOM     201  O3'              C       A      11       -2.340  9.174   \n220    ATOM     221  O3'              C       A      -1        2.987  8.985   \n\n          z  occupancy  tempFactor element charge group  \n8    -5.390        1.0         1.0       O            P  \n30   -7.938        1.0         1.0       O            P  \n52  -10.486        1.0         1.0       O            P  \n74  -13.034        1.0         1.0       O            P  \n97  -15.582        1.0         1.0       O            P  \n120 -18.130        1.0         1.0       O            P  \n140 -20.678        1.0         1.0       O            P  \n160 -23.226        1.0         1.0       O            P  \n180 -25.774        1.0         1.0       O            P  \n200 -28.322        1.0         1.0       O            P  \n220 -30.870        1.0         1.0       O            P  \n"
    }
   ],
   "source": [
    "for c in temp['chainID'].unique():\n",
    "    sel = temp.loc[(temp['name'] == \"O3\\'\") & (temp['chainID'] == c), \"resSeq\"]\n",
    "    print(sel)\n",
    "    temp.loc[(temp['name'] == \"O3\\'\") & (temp['chainID'] == c), \"resSeq\"] = list(sel)[1:] + [-1]\n",
    "    print(temp.loc[temp['name']==\"O3\\'\"])"
   ]
  },
  {
   "cell_type": "code",
   "execution_count": 63,
   "metadata": {},
   "outputs": [
    {
     "ename": "ValueError",
     "evalue": "cannot set using a multi-index selection indexer with a different length than the value",
     "output_type": "error",
     "traceback": [
      "\u001b[0;31m---------------------------------------------------------------------------\u001b[0m",
      "\u001b[0;31mValueError\u001b[0m                                Traceback (most recent call last)",
      "\u001b[0;32m<ipython-input-63-42dffaaa0a24>\u001b[0m in \u001b[0;36m<module>\u001b[0;34m()\u001b[0m\n\u001b[0;32m----> 1\u001b[0;31m \u001b[0mtemp\u001b[0m\u001b[0;34m.\u001b[0m\u001b[0mloc\u001b[0m\u001b[0;34m[\u001b[0m\u001b[0;34m(\u001b[0m\u001b[0mtemp\u001b[0m\u001b[0;34m[\u001b[0m\u001b[0;34m'name'\u001b[0m\u001b[0;34m]\u001b[0m \u001b[0;34m==\u001b[0m \u001b[0;34m\"O3\\'\"\u001b[0m\u001b[0;34m)\u001b[0m \u001b[0;34m&\u001b[0m \u001b[0;34m(\u001b[0m\u001b[0mtemp\u001b[0m\u001b[0;34m[\u001b[0m\u001b[0;34m'chainID'\u001b[0m\u001b[0;34m]\u001b[0m \u001b[0;34m==\u001b[0m \u001b[0mc\u001b[0m\u001b[0;34m)\u001b[0m\u001b[0;34m,\u001b[0m \u001b[0;34m\"resSeq\"\u001b[0m\u001b[0;34m]\u001b[0m \u001b[0;34m=\u001b[0m \u001b[0mlist\u001b[0m\u001b[0;34m(\u001b[0m\u001b[0msel\u001b[0m\u001b[0;34m)\u001b[0m\u001b[0;34m[\u001b[0m\u001b[0;36m1\u001b[0m\u001b[0;34m:\u001b[0m\u001b[0;34m]\u001b[0m \u001b[0;34m+\u001b[0m \u001b[0;34m[\u001b[0m\u001b[0;34m-\u001b[0m\u001b[0;36m1\u001b[0m\u001b[0;34m]\u001b[0m\u001b[0;34m\u001b[0m\u001b[0;34m\u001b[0m\u001b[0m\n\u001b[0m",
      "\u001b[0;32m/home/sj52/program/anaconda3/envs/openmm/lib/python3.6/site-packages/pandas/core/indexing.py\u001b[0m in \u001b[0;36m__setitem__\u001b[0;34m(self, key, value)\u001b[0m\n\u001b[1;32m    668\u001b[0m \u001b[0;34m\u001b[0m\u001b[0m\n\u001b[1;32m    669\u001b[0m         \u001b[0miloc\u001b[0m \u001b[0;34m=\u001b[0m \u001b[0mself\u001b[0m \u001b[0;32mif\u001b[0m \u001b[0mself\u001b[0m\u001b[0;34m.\u001b[0m\u001b[0mname\u001b[0m \u001b[0;34m==\u001b[0m \u001b[0;34m\"iloc\"\u001b[0m \u001b[0;32melse\u001b[0m \u001b[0mself\u001b[0m\u001b[0;34m.\u001b[0m\u001b[0mobj\u001b[0m\u001b[0;34m.\u001b[0m\u001b[0miloc\u001b[0m\u001b[0;34m\u001b[0m\u001b[0;34m\u001b[0m\u001b[0m\n\u001b[0;32m--> 670\u001b[0;31m         \u001b[0miloc\u001b[0m\u001b[0;34m.\u001b[0m\u001b[0m_setitem_with_indexer\u001b[0m\u001b[0;34m(\u001b[0m\u001b[0mindexer\u001b[0m\u001b[0;34m,\u001b[0m \u001b[0mvalue\u001b[0m\u001b[0;34m)\u001b[0m\u001b[0;34m\u001b[0m\u001b[0;34m\u001b[0m\u001b[0m\n\u001b[0m\u001b[1;32m    671\u001b[0m \u001b[0;34m\u001b[0m\u001b[0m\n\u001b[1;32m    672\u001b[0m     \u001b[0;32mdef\u001b[0m \u001b[0m_validate_key\u001b[0m\u001b[0;34m(\u001b[0m\u001b[0mself\u001b[0m\u001b[0;34m,\u001b[0m \u001b[0mkey\u001b[0m\u001b[0;34m,\u001b[0m \u001b[0maxis\u001b[0m\u001b[0;34m:\u001b[0m \u001b[0mint\u001b[0m\u001b[0;34m)\u001b[0m\u001b[0;34m:\u001b[0m\u001b[0;34m\u001b[0m\u001b[0;34m\u001b[0m\u001b[0m\n",
      "\u001b[0;32m/home/sj52/program/anaconda3/envs/openmm/lib/python3.6/site-packages/pandas/core/indexing.py\u001b[0m in \u001b[0;36m_setitem_with_indexer\u001b[0;34m(self, indexer, value)\u001b[0m\n\u001b[1;32m   1665\u001b[0m                     \u001b[0;31m# Exclude zero-len for e.g. boolean masking that is all-false\u001b[0m\u001b[0;34m\u001b[0m\u001b[0;34m\u001b[0m\u001b[0;34m\u001b[0m\u001b[0m\n\u001b[1;32m   1666\u001b[0m                     raise ValueError(\n\u001b[0;32m-> 1667\u001b[0;31m                         \u001b[0;34m\"cannot set using a multi-index \"\u001b[0m\u001b[0;34m\u001b[0m\u001b[0;34m\u001b[0m\u001b[0m\n\u001b[0m\u001b[1;32m   1668\u001b[0m                         \u001b[0;34m\"selection indexer with a different \"\u001b[0m\u001b[0;34m\u001b[0m\u001b[0;34m\u001b[0m\u001b[0m\n\u001b[1;32m   1669\u001b[0m                         \u001b[0;34m\"length than the value\"\u001b[0m\u001b[0;34m\u001b[0m\u001b[0;34m\u001b[0m\u001b[0m\n",
      "\u001b[0;31mValueError\u001b[0m: cannot set using a multi-index selection indexer with a different length than the value"
     ]
    }
   ],
   "source": []
  },
  {
   "cell_type": "code",
   "execution_count": null,
   "metadata": {},
   "outputs": [],
   "source": []
  }
 ],
 "metadata": {
  "kernelspec": {
   "display_name": "Python 3",
   "language": "python",
   "name": "python3"
  },
  "language_info": {
   "codemirror_mode": {
    "name": "ipython",
    "version": 3
   },
   "file_extension": ".py",
   "mimetype": "text/x-python",
   "name": "python",
   "nbconvert_exporter": "python",
   "pygments_lexer": "ipython3",
   "version": "3.6.12-final"
  }
 },
 "nbformat": 4,
 "nbformat_minor": 4
}